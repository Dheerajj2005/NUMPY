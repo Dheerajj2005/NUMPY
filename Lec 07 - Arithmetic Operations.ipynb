{
 "cells": [
  {
   "cell_type": "markdown",
   "id": "b97635be",
   "metadata": {},
   "source": [
    "## Arithmatic operation "
   ]
  },
  {
   "cell_type": "raw",
   "id": "c2715803",
   "metadata": {},
   "source": [
    "1) a + b      np.add(a, b)\n",
    "2) a - b      np.subtract(a, b)\n",
    "3) a * b      np.multiply(a, b)\n",
    "1) a / b      np.divide(a, b)\n",
    "1) a % b      np.mod(a, b)\n",
    "1) a ** b     np.power(a, b)\n",
    "1) 1 / a      np.reciprocal(a)"
   ]
  },
  {
   "cell_type": "markdown",
   "id": "d94c9c6c",
   "metadata": {},
   "source": [
    "## 1 Dimension array"
   ]
  },
  {
   "cell_type": "code",
   "execution_count": 3,
   "id": "46b04d29",
   "metadata": {},
   "outputs": [
    {
     "name": "stdout",
     "output_type": "stream",
     "text": [
      "[4 5 6 7]\n"
     ]
    }
   ],
   "source": [
    "# Addition of one element in an array\n",
    "import numpy as np\n",
    "\n",
    "var = np.array([1, 2, 3, 4])\n",
    "\n",
    "var_add = var + 3\n",
    "\n",
    "print(var_add)"
   ]
  },
  {
   "cell_type": "code",
   "execution_count": 6,
   "id": "81f89c9c",
   "metadata": {},
   "outputs": [
    {
     "name": "stdout",
     "output_type": "stream",
     "text": [
      "[2 4 6 8]\n"
     ]
    }
   ],
   "source": [
    "# Addition of two arrays\n",
    "var_1 = np.array([1, 2, 3, 4])\n",
    "var_2 = np.array([1, 2, 3, 4])\n",
    "\n",
    "var_add = var_1 + var_2\n",
    "\n",
    "print(var_add)"
   ]
  },
  {
   "cell_type": "code",
   "execution_count": 7,
   "id": "4ab3c3c9",
   "metadata": {},
   "outputs": [
    {
     "name": "stdout",
     "output_type": "stream",
     "text": [
      "[0 0 0 0]\n"
     ]
    }
   ],
   "source": [
    "# Subraction \n",
    "var_1 = np.array([1, 2, 3, 4])\n",
    "var_2 = np.array([1, 2, 3, 4])\n",
    "\n",
    "var_add = var_1 - var_2\n",
    "\n",
    "print(var_add)"
   ]
  },
  {
   "cell_type": "code",
   "execution_count": 8,
   "id": "e635cd50",
   "metadata": {},
   "outputs": [
    {
     "name": "stdout",
     "output_type": "stream",
     "text": [
      "[ 1  4  9 16]\n"
     ]
    }
   ],
   "source": [
    "# Multiplication \n",
    "var_1 = np.array([1, 2, 3, 4])\n",
    "var_2 = np.array([1, 2, 3, 4])\n",
    "\n",
    "var_add = var_1 * var_2\n",
    "\n",
    "print(var_add)"
   ]
  },
  {
   "cell_type": "code",
   "execution_count": 9,
   "id": "52f6bb78",
   "metadata": {},
   "outputs": [
    {
     "name": "stdout",
     "output_type": "stream",
     "text": [
      "[1. 1. 1. 1.]\n"
     ]
    }
   ],
   "source": [
    "# Division \n",
    "var_1 = np.array([1, 2, 3, 4])\n",
    "var_2 = np.array([1, 2, 3, 4])\n",
    "\n",
    "var_add = var_1 / var_2\n",
    "\n",
    "print(var_add)"
   ]
  },
  {
   "cell_type": "code",
   "execution_count": 12,
   "id": "14059d6f",
   "metadata": {},
   "outputs": [
    {
     "name": "stdout",
     "output_type": "stream",
     "text": [
      "[2 4 6 8]\n",
      "\n",
      "[6 7 8 9]\n"
     ]
    }
   ],
   "source": [
    "# Using function\n",
    "var_2 = np.array([1, 2, 3, 4])\n",
    "var_3 = np.array([1, 2, 3, 4])\n",
    "\n",
    "varadd = np.add(var_2, var_3)\n",
    "varadd0 = np.add(var_2, 5)\n",
    "\n",
    "print(varadd)\n",
    "print()\n",
    "print(varadd0)"
   ]
  },
  {
   "cell_type": "markdown",
   "id": "3cae9162",
   "metadata": {},
   "source": [
    "## 2 Dimension array"
   ]
  },
  {
   "cell_type": "code",
   "execution_count": 14,
   "id": "8c498f3a",
   "metadata": {},
   "outputs": [
    {
     "name": "stdout",
     "output_type": "stream",
     "text": [
      "[[1 2 3 4]\n",
      " [1 2 3 4]]\n",
      "\n",
      "[[1 2 3 4]\n",
      " [1 2 3 4]]\n",
      "\n",
      "[[2 4 6 8]\n",
      " [2 4 6 8]]\n",
      "\n",
      "[[ 1  4  9 16]\n",
      " [ 1  4  9 16]]\n"
     ]
    }
   ],
   "source": [
    "var_21 = np.array([[1, 2, 3, 4],[1, 2, 3, 4]])\n",
    "var_22 = np.array([[1, 2, 3, 4],[1, 2, 3, 4]])\n",
    "\n",
    "print(var_21)\n",
    "print()\n",
    "print(var_22)\n",
    "print()\n",
    "\n",
    "var_add2 = np.add(var_21,var_22)\n",
    "print(var_add2)\n",
    "print()\n",
    "\n",
    "var_multiply2 = np.multiply(var_21,var_22)\n",
    "print(var_multiply2)"
   ]
  },
  {
   "cell_type": "code",
   "execution_count": null,
   "id": "830f1352",
   "metadata": {},
   "outputs": [],
   "source": []
  }
 ],
 "metadata": {
  "kernelspec": {
   "display_name": "Python 3 (ipykernel)",
   "language": "python",
   "name": "python3"
  },
  "language_info": {
   "codemirror_mode": {
    "name": "ipython",
    "version": 3
   },
   "file_extension": ".py",
   "mimetype": "text/x-python",
   "name": "python",
   "nbconvert_exporter": "python",
   "pygments_lexer": "ipython3",
   "version": "3.11.5"
  }
 },
 "nbformat": 4,
 "nbformat_minor": 5
}
