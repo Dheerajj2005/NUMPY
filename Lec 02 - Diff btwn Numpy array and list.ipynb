{
 "cells": [
  {
   "cell_type": "markdown",
   "id": "b3f5815e",
   "metadata": {},
   "source": [
    "## Lec-2 ##\n",
    "### Difference btwn Python list and Numpy array ###"
   ]
  },
  {
   "cell_type": "markdown",
   "id": "02a28b74",
   "metadata": {},
   "source": [
    "**1) Data Type Storage** <br> \n",
    "   In list you can store any data type ex. list = [1, 2, \"dheeraj\", 1.5 ] <br>\n",
    "   whereas as numpy array you can store only one type of data <br>\n",
    "   \n",
    "**2) Importing Module** <br>\n",
    "   No extra module is required for using list but for numpy array you need to install numpy package <br>   and import it <br>\n",
    "   \n",
    "**3) Numerical Operation** <br>\n",
    "   List supports only basic mathematical operation but for complex operation numpy array is used <br>\n",
    "   \n",
    "**4) Consumes less memory** <br>\n",
    "   Numpy array uses less memory compared to list<br>\n",
    "   \n",
    "**5) Fast as compared to python list**\n",
    "\n",
    "**6) Convinient to use**"
   ]
  },
  {
   "cell_type": "markdown",
   "id": "889de873",
   "metadata": {},
   "source": [
    "We can also check how much time it take to make a list or a numpy array by using timeit function<br>\n",
    "**%timeit** --- for one line<br>\n",
    "**%%timeit** --- for whole program<br>"
   ]
  },
  {
   "cell_type": "code",
   "execution_count": 1,
   "id": "2a518e16",
   "metadata": {},
   "outputs": [
    {
     "name": "stdout",
     "output_type": "stream",
     "text": [
      "987 ns ± 63.1 ns per loop (mean ± std. dev. of 7 runs, 1,000,000 loops each)\n"
     ]
    }
   ],
   "source": [
    "# time taken to create a list \n",
    "%timeit [ j**4 for j in range(1,9)]\n",
    "#Creates a list of the fourth powers of numbers from 1 to 8.\n",
    "#Measures the time it takes to create this list using the %timeit magic command"
   ]
  },
  {
   "cell_type": "code",
   "execution_count": 4,
   "id": "547269fa",
   "metadata": {},
   "outputs": [
    {
     "name": "stdout",
     "output_type": "stream",
     "text": [
      "2.37 µs ± 195 ns per loop (mean ± std. dev. of 7 runs, 100,000 loops each)\n"
     ]
    }
   ],
   "source": [
    "#time taken to create a numpy array\n",
    "# arrange is function which is used to create a numpy array similar as range function\n",
    "import numpy as np\n",
    "%timeit np.arange(1,9)**4"
   ]
  }
 ],
 "metadata": {
  "kernelspec": {
   "display_name": "Python 3 (ipykernel)",
   "language": "python",
   "name": "python3"
  },
  "language_info": {
   "codemirror_mode": {
    "name": "ipython",
    "version": 3
   },
   "file_extension": ".py",
   "mimetype": "text/x-python",
   "name": "python",
   "nbconvert_exporter": "python",
   "pygments_lexer": "ipython3",
   "version": "3.11.5"
  }
 },
 "nbformat": 4,
 "nbformat_minor": 5
}
