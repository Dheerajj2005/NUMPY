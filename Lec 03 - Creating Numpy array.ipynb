{
 "cells": [
  {
   "cell_type": "markdown",
   "id": "962df193",
   "metadata": {},
   "source": [
    "## Lec - 3 ##\n",
    "### Creating numpy arrays ###"
   ]
  },
  {
   "cell_type": "markdown",
   "id": "ea51f210",
   "metadata": {},
   "source": [
    "**To create a numpy array basic syntax is**<br> \n",
    "\n",
    "import random as np <br>\n",
    "*Here u pass a list of number which is converted into array* <br>\n",
    "a = np.array([1, 2, 3]) <br>\n",
    "print(a)"
   ]
  },
  {
   "cell_type": "code",
   "execution_count": 1,
   "id": "af024012",
   "metadata": {},
   "outputs": [
    {
     "name": "stdout",
     "output_type": "stream",
     "text": [
      "[1 2 3 4]\n"
     ]
    }
   ],
   "source": [
    "import numpy as np\n",
    "\n",
    "x = [1, 2, 3, 4]\n",
    "\n",
    "y = np.array(x)\n",
    "\n",
    "print(y)"
   ]
  },
  {
   "cell_type": "code",
   "execution_count": 2,
   "id": "4d2cf3c3",
   "metadata": {},
   "outputs": [
    {
     "data": {
      "text/plain": [
       "array([1, 2, 3, 4])"
      ]
     },
     "execution_count": 2,
     "metadata": {},
     "output_type": "execute_result"
    }
   ],
   "source": [
    "#Just entering the array variable name it will tell u whether it is array or not \n",
    "y"
   ]
  },
  {
   "cell_type": "code",
   "execution_count": 4,
   "id": "b623c8b6",
   "metadata": {},
   "outputs": [
    {
     "name": "stdout",
     "output_type": "stream",
     "text": [
      "<class 'numpy.ndarray'>\n"
     ]
    }
   ],
   "source": [
    "print(type(y))"
   ]
  },
  {
   "cell_type": "code",
   "execution_count": 6,
   "id": "0c155535",
   "metadata": {},
   "outputs": [
    {
     "name": "stdout",
     "output_type": "stream",
     "text": [
      "Enter the number : 23\n",
      "Enter the number : 34\n",
      "Enter the number : 45\n",
      "Enter the number : 56\n",
      "[23 34 45 56]\n"
     ]
    }
   ],
   "source": [
    "# How to take user input \n",
    "\n",
    "# Create empty list\n",
    "l = [] \n",
    "\n",
    "# I wan't four element in ,y array so for loop will run for 4 times\n",
    "for i in range(1,5):\n",
    "    num = int(input(\"Enter the number : \"))\n",
    "    # Add the input number to the list \n",
    "    l.append(num)\n",
    "\n",
    "# To print the array after converting list to array at the same time \n",
    "print(np.array(l))"
   ]
  },
  {
   "cell_type": "markdown",
   "id": "5cf8d610",
   "metadata": {},
   "source": [
    "## Dimensions in Array ##"
   ]
  },
  {
   "cell_type": "markdown",
   "id": "bd681c2a",
   "metadata": {},
   "source": [
    "**1) 1 Dimension Array** <br>\n",
    "  [1, 2, 3, 4] <br>\n",
    "\n",
    "**2) 2 Dimension Array** <br>\n",
    "  [[1, 2, 3, 4]] <br>\n",
    "\n",
    "**3) 3 Dimension Array** <br>\n",
    "  [[[1, 2, 3, 4]]] <br>\n",
    " \n",
    "To check the dimension of array count the no.of bracket at any one side <br>\n",
    "                      OR <br>\n",
    "ndim function is used to find out dimension of array <br>"
   ]
  },
  {
   "cell_type": "code",
   "execution_count": 8,
   "id": "d2929a24",
   "metadata": {},
   "outputs": [
    {
     "name": "stdout",
     "output_type": "stream",
     "text": [
      "1\n"
     ]
    }
   ],
   "source": [
    "# 1 Dimension Array \n",
    "a = [1, 2, 3, 4]\n",
    "\n",
    "b = np.array(a)\n",
    "\n",
    "print(b.ndim)"
   ]
  },
  {
   "cell_type": "code",
   "execution_count": 15,
   "id": "b09e1a25",
   "metadata": {},
   "outputs": [
    {
     "name": "stdout",
     "output_type": "stream",
     "text": [
      "[1 2 3 4]\n",
      "1\n",
      "\n",
      "\n",
      "[[1 2 3 4]\n",
      " [3 4 6 8]]\n",
      "2\n"
     ]
    }
   ],
   "source": [
    "# How to create 2 Dimension Array \n",
    "x = np.array([1, 2, 3, 4])\n",
    "print(x)\n",
    "print(x.ndim)\n",
    "print(\"\\n\")\n",
    "# Other way to create is \n",
    "y = np.array([[1, 2, 3, 4],[3, 4, 6, 8]])\n",
    "print(y)\n",
    "print(y.ndim)"
   ]
  },
  {
   "cell_type": "code",
   "execution_count": 16,
   "id": "1fad7ec1",
   "metadata": {},
   "outputs": [
    {
     "ename": "ValueError",
     "evalue": "setting an array element with a sequence. The requested array has an inhomogeneous shape after 1 dimensions. The detected shape was (2,) + inhomogeneous part.",
     "output_type": "error",
     "traceback": [
      "\u001b[1;31m---------------------------------------------------------------------------\u001b[0m",
      "\u001b[1;31mValueError\u001b[0m                                Traceback (most recent call last)",
      "Cell \u001b[1;32mIn[16], line 2\u001b[0m\n\u001b[0;32m      1\u001b[0m \u001b[38;5;66;03m# ther's one prblm in creating 2 Dimension array \u001b[39;00m\n\u001b[1;32m----> 2\u001b[0m z \u001b[38;5;241m=\u001b[39m np\u001b[38;5;241m.\u001b[39marray([[\u001b[38;5;241m1\u001b[39m, \u001b[38;5;241m2\u001b[39m, \u001b[38;5;241m3\u001b[39m, \u001b[38;5;241m4\u001b[39m],[\u001b[38;5;241m3\u001b[39m, \u001b[38;5;241m4\u001b[39m, \u001b[38;5;241m6\u001b[39m]])\n\u001b[0;32m      3\u001b[0m \u001b[38;5;28mprint\u001b[39m(z)\n",
      "\u001b[1;31mValueError\u001b[0m: setting an array element with a sequence. The requested array has an inhomogeneous shape after 1 dimensions. The detected shape was (2,) + inhomogeneous part."
     ]
    }
   ],
   "source": [
    "# ther's one prblm in creating 2 Dimension array \n",
    "z = np.array([[1, 2, 3, 4],[3, 4, 6]])\n",
    "print(z)\n",
    "\n",
    "# Here u get an error bcuz no.of element in two rows are not equal in number "
   ]
  },
  {
   "cell_type": "code",
   "execution_count": 17,
   "id": "0599a01a",
   "metadata": {},
   "outputs": [
    {
     "name": "stdout",
     "output_type": "stream",
     "text": [
      "[[[1 2 3 4]\n",
      "  [3 4 6 7]\n",
      "  [8 9 3 1]]]\n",
      "3\n"
     ]
    }
   ],
   "source": [
    "# 3 Dimension Array \n",
    "d = np.array([[[1, 2, 3, 4],[3, 4, 6, 7],[8, 9, 3,1]]])\n",
    "print(d)\n",
    "print(d.ndim)"
   ]
  },
  {
   "cell_type": "code",
   "execution_count": 18,
   "id": "5bed3a79",
   "metadata": {},
   "outputs": [
    {
     "name": "stdout",
     "output_type": "stream",
     "text": [
      "[[[[[[[[[[1 2 3 4]]]]]]]]]]\n",
      "10\n"
     ]
    }
   ],
   "source": [
    "# How to create Multidinmension array\n",
    "c = np.array([1, 2, 3, 4] , ndmin = 10)\n",
    "print(c)\n",
    "print(c.ndim)"
   ]
  }
 ],
 "metadata": {
  "kernelspec": {
   "display_name": "Python 3 (ipykernel)",
   "language": "python",
   "name": "python3"
  },
  "language_info": {
   "codemirror_mode": {
    "name": "ipython",
    "version": 3
   },
   "file_extension": ".py",
   "mimetype": "text/x-python",
   "name": "python",
   "nbconvert_exporter": "python",
   "pygments_lexer": "ipython3",
   "version": "3.11.5"
  }
 },
 "nbformat": 4,
 "nbformat_minor": 5
}
