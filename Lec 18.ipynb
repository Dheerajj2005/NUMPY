{
 "cells": [
  {
   "cell_type": "markdown",
   "id": "06102e7f",
   "metadata": {},
   "source": [
    "# Matrix in numpy arrays"
   ]
  },
  {
   "cell_type": "raw",
   "id": "1d552995",
   "metadata": {},
   "source": [
    "Matrix                    Numpy array        \n",
    "  |1 2 3|                 [[1, 2, 3],\n",
    "  |4 5 6|                  [4, 5, 6],                          \n",
    "  |7 8 9|                  [7, 8, 9]] \n",
    "  \n",
    "the basic difference between numpy array in matrix is in MULTIPLICATION \n",
    "in Numpy arrays element are multiplied one by one or corresponding element \n",
    "but in matrix u have to perform matrix multiplication (row*column for one element)\n",
    " \n",
    "* when u print matrix and array output is shown exactly same but there internal class is different for this u have to use f   type function  "
   ]
  },
  {
   "cell_type": "code",
   "execution_count": 1,
   "id": "13513e88",
   "metadata": {},
   "outputs": [
    {
     "name": "stdout",
     "output_type": "stream",
     "text": [
      "[[1 2 3]\n",
      " [1 2 3]]\n",
      "<class 'numpy.matrix'>\n",
      "\n",
      "[[1 2 3]\n",
      " [1 2 3]]\n",
      "<class 'numpy.ndarray'>\n"
     ]
    }
   ],
   "source": [
    "# Creating a numpy matrix \n",
    "import numpy as np \n",
    "\n",
    "var1 = np.matrix([[1, 2, 3],[1, 2, 3]])\n",
    "print(var1)\n",
    "print(type(var1))\n",
    "print()\n",
    "\n",
    "# let's see deifference between them\n",
    "var2 = np.array([[1, 2, 3],[1, 2, 3]])\n",
    "print(var2)\n",
    "print(type(var2))"
   ]
  },
  {
   "cell_type": "code",
   "execution_count": 6,
   "id": "fa38aa7c",
   "metadata": {},
   "outputs": [
    {
     "name": "stdout",
     "output_type": "stream",
     "text": [
      "[[2 4 6]\n",
      " [2 4 6]]\n",
      "\n",
      "[[2 4 6]\n",
      " [2 4 6]]\n"
     ]
    }
   ],
   "source": [
    "# There is nodifference in addition and multiplication function \n",
    "# matrix addition \n",
    "var3 = np.matrix([[1, 2, 3],[1, 2, 3]])\n",
    "var4 = np.matrix([[1, 2, 3],[1, 2, 3]])\n",
    "print(var3+var4)\n",
    "print()\n",
    "\n",
    "# array addition \n",
    "var5 = np.array([[1, 2, 3],[1, 2, 3]])\n",
    "var6 = np.array([[1, 2, 3],[1, 2, 3]])\n",
    "print(var5+var6)"
   ]
  },
  {
   "cell_type": "raw",
   "id": "81ada10b",
   "metadata": {},
   "source": [
    "There are two ways perform matrix multiplication \n",
    "1) var1 * var2\n",
    "2) use of dot() function \n",
    "    var1.dot(var2)"
   ]
  },
  {
   "cell_type": "code",
   "execution_count": 9,
   "id": "6ad307f9",
   "metadata": {},
   "outputs": [
    {
     "name": "stdout",
     "output_type": "stream",
     "text": [
      "[[1 4]\n",
      " [1 4]]\n",
      "\n",
      "[[3 6]\n",
      " [3 6]]\n"
     ]
    }
   ],
   "source": [
    "# Let's see difference between matrix and array multiplication \n",
    "# array multiplication \n",
    "var7 = np.array([[1, 2],[1, 2]])\n",
    "var8 = np.array([[1, 2],[1, 2]])\n",
    "print(var7*var8)\n",
    "print()\n",
    "\n",
    "# matrix multiplication  \n",
    "var9 = np.matrix([[1, 2],[1, 2]])\n",
    "var10 = np.matrix([[1, 2],[1, 2]])\n",
    "print(var9*var10)"
   ]
  },
  {
   "cell_type": "code",
   "execution_count": 10,
   "id": "44786480",
   "metadata": {},
   "outputs": [
    {
     "name": "stdout",
     "output_type": "stream",
     "text": [
      "[[3 6]\n",
      " [3 6]]\n",
      "\n",
      "[[3 6]\n",
      " [3 6]]\n"
     ]
    }
   ],
   "source": [
    "# Two types to perform matrix multiplication \n",
    "var11 = np.matrix([[1, 2],[1, 2]])\n",
    "var12 = np.matrix([[1, 2],[1, 2]])\n",
    "print(var11*var12)\n",
    "print()\n",
    "\n",
    "x = var11.dot(var12)\n",
    "print(x)"
   ]
  },
  {
   "cell_type": "markdown",
   "id": "5983dab2",
   "metadata": {},
   "source": [
    "# Matrix function in nmupy arrays"
   ]
  },
  {
   "cell_type": "raw",
   "id": "1ec58f33",
   "metadata": {},
   "source": [
    "transpose()\n",
    "it transpose the matrix i.e changes the axis of matrix"
   ]
  },
  {
   "cell_type": "code",
   "execution_count": 5,
   "id": "fc1cac44",
   "metadata": {},
   "outputs": [
    {
     "name": "stdout",
     "output_type": "stream",
     "text": [
      "[[1 2 3]\n",
      " [4 5 6]]\n",
      "\n",
      "[[1 4]\n",
      " [2 5]\n",
      " [3 6]]\n",
      "\n",
      "[[1 4]\n",
      " [2 5]\n",
      " [3 6]]\n"
     ]
    }
   ],
   "source": [
    "import numpy as np\n",
    "vr = np.matrix([[1, 2, 3],[4, 5, 6]])\n",
    "print(vr)\n",
    "print()\n",
    "\n",
    "# There are two ways to perform this operation\n",
    "# 1st way\n",
    "x = np.transpose(vr)\n",
    "print(x)\n",
    "print()\n",
    "\n",
    "# 2nd way\n",
    "y = vr.T\n",
    "print(y)"
   ]
  },
  {
   "cell_type": "raw",
   "id": "ec642170",
   "metadata": {},
   "source": [
    "swapaxes()\n",
    "It convert data of row to column and column to row"
   ]
  },
  {
   "cell_type": "code",
   "execution_count": 4,
   "id": "8ae93e25",
   "metadata": {},
   "outputs": [
    {
     "name": "stdout",
     "output_type": "stream",
     "text": [
      "[[1 2 3]\n",
      " [4 5 6]]\n",
      "\n",
      "[[1 4]\n",
      " [2 5]\n",
      " [3 6]]\n",
      "\n"
     ]
    }
   ],
   "source": [
    "import numpy as np\n",
    "vr1 = np.matrix([[1, 2, 3],[4, 5, 6]])\n",
    "print(vr1)\n",
    "print()\n",
    "\n",
    "# syntax variable_name, current_axes, converted_axes \n",
    "z = np.swapaxes(vr1, 0, 1)\n",
    "print(z)"
   ]
  },
  {
   "cell_type": "code",
   "execution_count": 5,
   "id": "2c121b82",
   "metadata": {},
   "outputs": [
    {
     "name": "stdout",
     "output_type": "stream",
     "text": [
      "[[1 2]\n",
      " [3 4]]\n",
      "\n",
      "[[1 3]\n",
      " [2 4]]\n"
     ]
    }
   ],
   "source": [
    "vr2 = np.matrix([[1, 2],[3, 4]])\n",
    "print(vr2)\n",
    "print()\n",
    "\n",
    "a = np.swapaxes(vr2, 0, 1)\n",
    "print(a)"
   ]
  },
  {
   "cell_type": "raw",
   "id": "8220abc3",
   "metadata": {},
   "source": [
    "inverse()\n",
    "inverse of |1 2| ---    1/ 1*4 - 2*3 |4   3|  ---  1/-2 |4    3| \n",
    "matrix     |3 4|                     |-2 -1|            |-2  -1|\n",
    "          "
   ]
  },
  {
   "cell_type": "code",
   "execution_count": 8,
   "id": "9544805d",
   "metadata": {},
   "outputs": [
    {
     "name": "stdout",
     "output_type": "stream",
     "text": [
      "[[1 2]\n",
      " [3 4]]\n",
      "\n",
      "[[-2.   1. ]\n",
      " [ 1.5 -0.5]]\n"
     ]
    }
   ],
   "source": [
    "vr3 = np.matrix([[1, 2],[3, 4]])\n",
    "print(vr3)\n",
    "print()\n",
    "\n",
    "b = np.linalg.inv(vr3)\n",
    "print(b)"
   ]
  },
  {
   "cell_type": "raw",
   "id": "dab1692e",
   "metadata": {},
   "source": [
    "power() function\n",
    "syntax = np.linalg.matrix_power(variable_name, power)\n",
    "There are 3 conitions in power \n",
    "1) power = 0 \n",
    "   here the output is   |1 0|\n",
    "   identity matrix      |0 1|\n",
    "   \n",
    "2) power > 0 \n",
    "   here dot multiplication takes place \n",
    "   \n",
    "3) power < 0\n",
    "   here inverse of matrix multiply with power"
   ]
  },
  {
   "cell_type": "code",
   "execution_count": 11,
   "id": "6df5dd34",
   "metadata": {},
   "outputs": [
    {
     "name": "stdout",
     "output_type": "stream",
     "text": [
      "[[1 2]\n",
      " [3 4]]\n",
      "\n",
      "[[ 7 10]\n",
      " [15 22]]\n",
      "\n",
      "[[1 0]\n",
      " [0 1]]\n",
      "\n",
      "[[ 5.5  -2.5 ]\n",
      " [-3.75  1.75]]\n"
     ]
    }
   ],
   "source": [
    "vr4 = np.matrix([[1, 2],[3, 4]])\n",
    "print(vr4)\n",
    "print()\n",
    "\n",
    "# power > 0\n",
    "d = np.linalg.matrix_power(vr4, 2)\n",
    "print(d)\n",
    "print()\n",
    "\n",
    "# power = 0\n",
    "e = np.linalg.matrix_power(vr4, 0)\n",
    "print(e)\n",
    "print()\n",
    "\n",
    "# power < 0\n",
    "f = np.linalg.matrix_power(vr4, -2)\n",
    "print(f)"
   ]
  },
  {
   "cell_type": "raw",
   "id": "9aa7fcdc",
   "metadata": {},
   "source": [
    "determinant of matrix"
   ]
  },
  {
   "cell_type": "code",
   "execution_count": 15,
   "id": "5f416333",
   "metadata": {},
   "outputs": [
    {
     "name": "stdout",
     "output_type": "stream",
     "text": [
      "[[1 2]\n",
      " [3 4]]\n",
      "\n",
      "-2.0000000000000004\n",
      "\n",
      "0.0\n"
     ]
    }
   ],
   "source": [
    "vr5 = np.matrix([[1, 2],[3, 4]])\n",
    "print(vr5)\n",
    "print()\n",
    "\n",
    "g = np.linalg.det(vr5)\n",
    "print(g)\n",
    "print()\n",
    "\n",
    "# If 2 rows are same then determinant is zero\n",
    "vr6 = np.matrix([[1, 2, 3],[4, 5, 6],[1, 2, 3]])\n",
    "h = np.linalg.det(vr6)\n",
    "print(h)"
   ]
  }
 ],
 "metadata": {
  "kernelspec": {
   "display_name": "Python 3 (ipykernel)",
   "language": "python",
   "name": "python3"
  },
  "language_info": {
   "codemirror_mode": {
    "name": "ipython",
    "version": 3
   },
   "file_extension": ".py",
   "mimetype": "text/x-python",
   "name": "python",
   "nbconvert_exporter": "python",
   "pygments_lexer": "ipython3",
   "version": "3.11.5"
  }
 },
 "nbformat": 4,
 "nbformat_minor": 5
}
