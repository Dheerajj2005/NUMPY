{
 "cells": [
  {
   "cell_type": "markdown",
   "id": "1ea562f7",
   "metadata": {},
   "source": [
    "## Arithmetic operation"
   ]
  },
  {
   "cell_type": "raw",
   "id": "4dafd00c",
   "metadata": {},
   "source": [
    "1) np.min(x)     -- minimum number in array\n",
    "2) np.max(x)     -- maximum number in array\n",
    "3) np.argmin(x)  -- gives the index number of minimum number\n",
    "4) np.argmax(x)  -- gives the index number of maximum number\n",
    "4) np.sqrt(x)    -- Square root of the given number\n",
    "5) np.sin(x)     -- sin of given number\n",
    "6) np.cos(x)     -- cos of given number\n",
    "7) np.cumsum(x)  -- discussed below "
   ]
  },
  {
   "cell_type": "code",
   "execution_count": 8,
   "id": "775e40eb",
   "metadata": {},
   "outputs": [
    {
     "name": "stdout",
     "output_type": "stream",
     "text": [
      "min :  1 index :  2\n",
      "max :  9 index :  7\n",
      "sqrt :  [1.41421356 1.73205081 1.         2.         2.82842712 2.44948974\n",
      " 2.23606798 3.        ]\n"
     ]
    }
   ],
   "source": [
    "# First 4 operation\n",
    "import numpy as np\n",
    "\n",
    "var_1 = np.array([2, 3, 1, 4, 8, 6, 5, 9])\n",
    "\n",
    "print(\"min : \" ,np.min(var_1), \"index : \" ,np.argmin(var_1))\n",
    "print(\"max : \" ,np.max(var_1), \"index : \" ,np.argmax(var_1))\n",
    "\n",
    "# sqrt()\n",
    "print(\"sqrt : \",np.sqrt(var_1))"
   ]
  },
  {
   "cell_type": "code",
   "execution_count": 9,
   "id": "0cbdd137",
   "metadata": {},
   "outputs": [
    {
     "name": "stdout",
     "output_type": "stream",
     "text": [
      "[[2 3 1 4]\n",
      " [8 6 5 9]]\n",
      "\n",
      "[2 3 1 4]\n",
      "\n",
      "[1 5]\n"
     ]
    }
   ],
   "source": [
    "# Working with 2 Dimension array\n",
    "# here we have to pass axis along with variable in functions \n",
    "# 2D arrays have two axis 0 and 1\n",
    "# 0 --- rows    1 --- columns\n",
    "var_1 = np.array([[2, 3, 1, 4],[8, 6, 5, 9]])\n",
    "print(var_1)\n",
    "print()\n",
    "print(np.min(var_1,axis = 0))\n",
    "print()\n",
    "print(np.min(var_1, axis = 1))"
   ]
  },
  {
   "cell_type": "code",
   "execution_count": 11,
   "id": "3f4aac09",
   "metadata": {},
   "outputs": [
    {
     "name": "stdout",
     "output_type": "stream",
     "text": [
      "sin value :  [ 0.         -0.98803162  0.85090352 -0.30481062  0.89399666 -0.80115264]\n",
      "cos value :  [ 1.          0.15425145  0.52532199 -0.95241298 -0.44807362 -0.59846007]\n"
     ]
    }
   ],
   "source": [
    "# sin and cos \n",
    "var_2 = np.array([0, 30, 45, 60, 90, 180])\n",
    "\n",
    "print(\"sin value : \",np.sin(var_2))\n",
    "print(\"cos value : \",np.cos(var_2))\n"
   ]
  },
  {
   "cell_type": "code",
   "execution_count": 13,
   "id": "83ea3cde",
   "metadata": {},
   "outputs": [
    {
     "name": "stdout",
     "output_type": "stream",
     "text": [
      "cumsum value :  [1 3 6]\n"
     ]
    }
   ],
   "source": [
    "# cumsum()\n",
    "#      Ex. [1, 2, 3] === [1, 1+2, 1+2+3] === [1 3 3+3] === [1 3 6]           \n",
    "var_3 = np.array([1, 2, 3])\n",
    "print(\"cumsum value : \",np.cumsum(var_3))"
   ]
  }
 ],
 "metadata": {
  "kernelspec": {
   "display_name": "Python 3 (ipykernel)",
   "language": "python",
   "name": "python3"
  },
  "language_info": {
   "codemirror_mode": {
    "name": "ipython",
    "version": 3
   },
   "file_extension": ".py",
   "mimetype": "text/x-python",
   "name": "python",
   "nbconvert_exporter": "python",
   "pygments_lexer": "ipython3",
   "version": "3.11.5"
  }
 },
 "nbformat": 4,
 "nbformat_minor": 5
}
