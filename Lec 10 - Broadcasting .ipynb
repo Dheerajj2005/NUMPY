{
 "cells": [
  {
   "cell_type": "markdown",
   "id": "2a2e74dd",
   "metadata": {},
   "source": [
    "## Broadcasting Numpy arrays"
   ]
  },
  {
   "cell_type": "raw",
   "id": "d9bd0996",
   "metadata": {},
   "source": [
    "Broadcast error\n",
    "To avoid this \n",
    "1) Same dimension\n",
    "2) v1 = [ 1, 2, 3 ]   v2 = [ 1\n",
    "                             2\n",
    "                             3 ]\n",
    "                             \n",
    " (1 * 3) -- dimensions        (3 * 1) -- dimension \n",
    " check from right there should be atleast 1 one \n",
    " after addition resiltant matrix dimension will be of greatest dimension in both pair i.e 3 * 3\n",
    " Ex var1 = [1, 2, 3 ]  var2 = [1, 2, 3, 4 ]\n",
    "            (1 * 3)              (1 * 4)\n",
    "            here there is not atleast one 1 so addition can't take place"
   ]
  },
  {
   "cell_type": "code",
   "execution_count": 2,
   "id": "10f7dd33",
   "metadata": {},
   "outputs": [
    {
     "ename": "ValueError",
     "evalue": "operands could not be broadcast together with shapes (4,) (3,) ",
     "output_type": "error",
     "traceback": [
      "\u001b[1;31m---------------------------------------------------------------------------\u001b[0m",
      "\u001b[1;31mValueError\u001b[0m                                Traceback (most recent call last)",
      "Cell \u001b[1;32mIn[2], line 7\u001b[0m\n\u001b[0;32m      4\u001b[0m var1 \u001b[38;5;241m=\u001b[39m np\u001b[38;5;241m.\u001b[39marray([\u001b[38;5;241m1\u001b[39m, \u001b[38;5;241m2\u001b[39m, \u001b[38;5;241m3\u001b[39m, \u001b[38;5;241m4\u001b[39m])\n\u001b[0;32m      5\u001b[0m var2 \u001b[38;5;241m=\u001b[39m np\u001b[38;5;241m.\u001b[39marray([\u001b[38;5;241m1\u001b[39m, \u001b[38;5;241m2\u001b[39m, \u001b[38;5;241m3\u001b[39m])\n\u001b[1;32m----> 7\u001b[0m \u001b[38;5;28mprint\u001b[39m( var1 \u001b[38;5;241m+\u001b[39m var2 )\n",
      "\u001b[1;31mValueError\u001b[0m: operands could not be broadcast together with shapes (4,) (3,) "
     ]
    }
   ],
   "source": [
    "import numpy as np\n",
    "\n",
    "# This is called Broadcast error\n",
    "var1 = np.array([1, 2, 3, 4])\n",
    "var2 = np.array([1, 2, 3])\n",
    "\n",
    "print( var1 + var2 )"
   ]
  },
  {
   "cell_type": "code",
   "execution_count": 4,
   "id": "0651d951",
   "metadata": {},
   "outputs": [
    {
     "name": "stdout",
     "output_type": "stream",
     "text": [
      "[2 4 6 8]\n"
     ]
    }
   ],
   "source": [
    "# Error was there bcuz of less element in one array\n",
    "var1 = np.array([1, 2, 3, 4])\n",
    "var2 = np.array([1, 2, 3, 4])\n",
    "\n",
    "print( var1 + var2 )"
   ]
  },
  {
   "cell_type": "code",
   "execution_count": 6,
   "id": "09ec0114",
   "metadata": {},
   "outputs": [
    {
     "name": "stdout",
     "output_type": "stream",
     "text": [
      "(3,)\n",
      "[1 2 3]\n",
      "\n",
      "(3, 1)\n",
      "[[1]\n",
      " [2]\n",
      " [3]]\n",
      "\n",
      "[[2 3 4]\n",
      " [3 4 5]\n",
      " [4 5 6]]\n"
     ]
    }
   ],
   "source": [
    "var1 = np.array([1, 2, 3])\n",
    "print(var1.shape)\n",
    "print(var1)\n",
    "print()\n",
    "\n",
    "var2 = np.array([[1],[2],[3]])\n",
    "print(var2.shape)\n",
    "print(var2)\n",
    "print()\n",
    "\n",
    "print( var1 + var2)"
   ]
  },
  {
   "cell_type": "code",
   "execution_count": 9,
   "id": "73fe046a",
   "metadata": {},
   "outputs": [
    {
     "name": "stdout",
     "output_type": "stream",
     "text": [
      "(2, 1)\n",
      "[[1]\n",
      " [2]]\n",
      "\n",
      "(2, 3)\n",
      "[[1 2 3]\n",
      " [1 2 3]]\n",
      "\n",
      "[[2 3 4]\n",
      " [3 4 5]]\n"
     ]
    }
   ],
   "source": [
    "x = np.array([[1],[2]])\n",
    "print(x.shape)\n",
    "print(x)\n",
    "print()\n",
    "\n",
    "y = np.array([[1, 2, 3],[1, 2, 3]])\n",
    "print(y.shape)\n",
    "print(y)\n",
    "print()\n",
    "\n",
    "print( x + y )\n"
   ]
  },
  {
   "cell_type": "raw",
   "id": "dcbcaae6",
   "metadata": {},
   "source": []
  }
 ],
 "metadata": {
  "kernelspec": {
   "display_name": "Python 3 (ipykernel)",
   "language": "python",
   "name": "python3"
  },
  "language_info": {
   "codemirror_mode": {
    "name": "ipython",
    "version": 3
   },
   "file_extension": ".py",
   "mimetype": "text/x-python",
   "name": "python",
   "nbconvert_exporter": "python",
   "pygments_lexer": "ipython3",
   "version": "3.11.5"
  }
 },
 "nbformat": 4,
 "nbformat_minor": 5
}
