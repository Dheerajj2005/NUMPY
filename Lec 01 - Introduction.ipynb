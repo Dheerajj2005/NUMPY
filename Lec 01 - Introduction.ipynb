{
 "cells": [
  {
   "cell_type": "markdown",
   "id": "fb4a967d",
   "metadata": {},
   "source": [
    "### Lec-1 ###"
   ]
  },
  {
   "cell_type": "code",
   "execution_count": 1,
   "id": "282c7791",
   "metadata": {},
   "outputs": [],
   "source": [
    "# Importing the numpy library \n",
    "import numpy as np"
   ]
  },
  {
   "cell_type": "markdown",
   "id": "b126ca2a",
   "metadata": {},
   "source": [
    "**The main idea of these two code snippets is to demonstrate the creation and type identification of two fundamental data structures in Python:**<br>\n",
    "*Which are:*<br>\n",
    "**01.Numpy array** <br>\n",
    "**02.Python Lisr** <br>"
   ]
  },
  {
   "cell_type": "code",
   "execution_count": 2,
   "id": "7b597fa2",
   "metadata": {},
   "outputs": [
    {
     "name": "stdout",
     "output_type": "stream",
     "text": [
      "[1 2 3 4]\n",
      "<class 'numpy.ndarray'>\n"
     ]
    }
   ],
   "source": [
    "x = np.array([1, 2, 3, 4])  # Create a NumPy array.\n",
    "print(x)  # Print the array.\n",
    "print(type(x)) # Print the data type of the array."
   ]
  },
  {
   "cell_type": "code",
   "execution_count": 3,
   "id": "1ea99102",
   "metadata": {},
   "outputs": [
    {
     "name": "stdout",
     "output_type": "stream",
     "text": [
      "[1, 2, 3, 4]\n",
      "<class 'list'>\n"
     ]
    }
   ],
   "source": [
    "y = [1, 2, 3, 4]  # Create a Python list.\n",
    "print(y)  # Print the list.\n",
    "print(type(y)) # Print the data type of the list."
   ]
  }
 ],
 "metadata": {
  "kernelspec": {
   "display_name": "Python 3 (ipykernel)",
   "language": "python",
   "name": "python3"
  },
  "language_info": {
   "codemirror_mode": {
    "name": "ipython",
    "version": 3
   },
   "file_extension": ".py",
   "mimetype": "text/x-python",
   "name": "python",
   "nbconvert_exporter": "python",
   "pygments_lexer": "ipython3",
   "version": "3.11.5"
  }
 },
 "nbformat": 4,
 "nbformat_minor": 5
}
