{
 "cells": [
  {
   "cell_type": "markdown",
   "id": "4c9f67d9",
   "metadata": {},
   "source": [
    "# Iterating Numpy Arrays"
   ]
  },
  {
   "cell_type": "code",
   "execution_count": 2,
   "id": "edde5f58",
   "metadata": {},
   "outputs": [
    {
     "name": "stdout",
     "output_type": "stream",
     "text": [
      "[5 9 7 3]\n",
      "\n",
      "5\n",
      "9\n",
      "7\n",
      "3\n"
     ]
    }
   ],
   "source": [
    "# Iteration for 1D arrays\n",
    "import numpy as np \n",
    "x = np.array([5, 9, 7, 3])\n",
    "print(x)\n",
    "print()\n",
    "for i in x :\n",
    "    print(i)"
   ]
  },
  {
   "cell_type": "code",
   "execution_count": 3,
   "id": "cf0cbb01",
   "metadata": {},
   "outputs": [
    {
     "name": "stdout",
     "output_type": "stream",
     "text": [
      "[[3 4 6 7]\n",
      " [2 9 3 5]]\n",
      "\n",
      "[3 4 6 7]\n",
      "[2 9 3 5]\n",
      "\n",
      "3\n",
      "4\n",
      "6\n",
      "7\n",
      "2\n",
      "9\n",
      "3\n",
      "5\n"
     ]
    }
   ],
   "source": [
    "# Iteration for 2D arrays\n",
    "y = np.array([[3, 4, 6, 7],[2, 9, 3, 5]])\n",
    "print(y)\n",
    "print()\n",
    "# After this process data is iterated but still in matrix if u want data like in 1D arrays\n",
    "for j in y :\n",
    "    print(j)\n",
    "print()\n",
    "# For each data seperately\n",
    "for k in y:\n",
    "    for l in k:\n",
    "        print(l)"
   ]
  },
  {
   "cell_type": "code",
   "execution_count": 6,
   "id": "c43f4c30",
   "metadata": {},
   "outputs": [
    {
     "name": "stdout",
     "output_type": "stream",
     "text": [
      "[[[9 8 7 6]\n",
      "  [5 6 7 3]\n",
      "  [1 3 4 2]]]\n",
      "3\n",
      "\n",
      "9\n",
      "8\n",
      "7\n",
      "6\n",
      "5\n",
      "6\n",
      "7\n",
      "3\n",
      "1\n",
      "3\n",
      "4\n",
      "2\n"
     ]
    }
   ],
   "source": [
    "# Iteration for 3D arrays \n",
    "z = np.array([[[9, 8, 7, 6],[5, 6, 7, 3],[1, 3, 4, 2]]])\n",
    "print(z)\n",
    "print(z.ndim)\n",
    "print()\n",
    "for i in z :\n",
    "    for j in i :\n",
    "        for k in j :\n",
    "            print(k)"
   ]
  },
  {
   "cell_type": "raw",
   "id": "8a6bfea6",
   "metadata": {},
   "source": [
    "To avoid this multiple for loops we can use function to get the iteration values nditer()\n",
    "\n",
    "Here we can also change the data type of elements and store it \n",
    "    np.nditer(var_name, flag = ['buffered], op_dtypes = ['S']\n",
    "\n",
    "flag part is used to create a space where the changed element will be stored \n",
    "\n",
    "second part tells in which data type we have to change \n",
    "\n",
    "If we also want the index of each data while iteration we can use function ndnumerate()"
   ]
  },
  {
   "cell_type": "code",
   "execution_count": 7,
   "id": "3e9bb59e",
   "metadata": {},
   "outputs": [
    {
     "name": "stdout",
     "output_type": "stream",
     "text": [
      "[[[9 8 2 6]\n",
      "  [6 9 7 2]\n",
      "  [1 3 8 2]]]\n",
      "3\n",
      "\n",
      "9\n",
      "8\n",
      "2\n",
      "6\n",
      "6\n",
      "9\n",
      "7\n",
      "2\n",
      "1\n",
      "3\n",
      "8\n",
      "2\n"
     ]
    }
   ],
   "source": [
    "g = np.array([[[9, 8, 2, 6],[6, 9, 7, 2],[1, 3, 8, 2]]])\n",
    "print(g)\n",
    "print(g.ndim)\n",
    "print()\n",
    "for i in np.nditer(g):\n",
    "    print(i)"
   ]
  },
  {
   "cell_type": "code",
   "execution_count": 12,
   "id": "d8734aa6",
   "metadata": {},
   "outputs": [
    {
     "name": "stdout",
     "output_type": "stream",
     "text": [
      "[[[9 3 2 6]\n",
      "  [4 9 7 2]\n",
      "  [9 3 8 2]]]\n",
      "3\n",
      "\n",
      "b'9'\n",
      "b'3'\n",
      "b'2'\n",
      "b'6'\n",
      "b'4'\n",
      "b'9'\n",
      "b'7'\n",
      "b'2'\n",
      "b'9'\n",
      "b'3'\n",
      "b'8'\n",
      "b'2'\n"
     ]
    }
   ],
   "source": [
    "h = np.array([[[9, 3, 2, 6],[4, 9, 7, 2],[9, 3, 8, 2]]])\n",
    "print(h)\n",
    "print(g.ndim)\n",
    "print()\n",
    "for i in np.nditer(h, flags=[\"buffered\"], op_dtypes = \"S\"):\n",
    "    print(i)\n",
    "    \n",
    "# In output small b reprsent that data is stored in bufferef"
   ]
  },
  {
   "cell_type": "code",
   "execution_count": 14,
   "id": "b7ea7b1b",
   "metadata": {},
   "outputs": [
    {
     "name": "stdout",
     "output_type": "stream",
     "text": [
      "[[[9 8 2 6]\n",
      "  [6 9 7 2]\n",
      "  [1 3 8 2]]]\n",
      "3\n",
      "\n",
      "(0, 0, 0) 9\n",
      "(0, 0, 1) 8\n",
      "(0, 0, 2) 2\n",
      "(0, 0, 3) 6\n",
      "(0, 1, 0) 6\n",
      "(0, 1, 1) 9\n",
      "(0, 1, 2) 7\n",
      "(0, 1, 3) 2\n",
      "(0, 2, 0) 1\n",
      "(0, 2, 1) 3\n",
      "(0, 2, 2) 8\n",
      "(0, 2, 3) 2\n"
     ]
    }
   ],
   "source": [
    "f = np.array([[[9, 8, 2, 6],[6, 9, 7, 2],[1, 3, 8, 2]]])\n",
    "print(f)\n",
    "print(f.ndim)\n",
    "print()\n",
    "for i,d in np.ndenumerate(f):\n",
    "    print(i,d)"
   ]
  },
  {
   "cell_type": "code",
   "execution_count": null,
   "id": "0576b3e0",
   "metadata": {},
   "outputs": [],
   "source": []
  }
 ],
 "metadata": {
  "kernelspec": {
   "display_name": "Python 3 (ipykernel)",
   "language": "python",
   "name": "python3"
  },
  "language_info": {
   "codemirror_mode": {
    "name": "ipython",
    "version": 3
   },
   "file_extension": ".py",
   "mimetype": "text/x-python",
   "name": "python",
   "nbconvert_exporter": "python",
   "pygments_lexer": "ipython3",
   "version": "3.11.5"
  }
 },
 "nbformat": 4,
 "nbformat_minor": 5
}
