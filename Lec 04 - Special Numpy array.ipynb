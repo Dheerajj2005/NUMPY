{
 "cells": [
  {
   "cell_type": "markdown",
   "id": "5170044f",
   "metadata": {},
   "source": [
    "## Special Numpy Array"
   ]
  },
  {
   "cell_type": "code",
   "execution_count": 1,
   "id": "97b3c0f4",
   "metadata": {},
   "outputs": [
    {
     "name": "stdout",
     "output_type": "stream",
     "text": [
      "[0. 0. 0. 0.]\n",
      "\n",
      "[[0. 0. 0. 0.]\n",
      " [0. 0. 0. 0.]\n",
      " [0. 0. 0. 0.]]\n",
      "\n",
      " 3D array starts \n",
      "[[[0. 0. 0.]\n",
      "  [0. 0. 0.]\n",
      "  [0. 0. 0.]\n",
      "  [0. 0. 0.]]\n",
      "\n",
      " [[0. 0. 0.]\n",
      "  [0. 0. 0.]\n",
      "  [0. 0. 0.]\n",
      "  [0. 0. 0.]]\n",
      "\n",
      " [[0. 0. 0.]\n",
      "  [0. 0. 0.]\n",
      "  [0. 0. 0.]\n",
      "  [0. 0. 0.]]]\n"
     ]
    }
   ],
   "source": [
    "# Array filled with ZERO's\n",
    "\n",
    "import numpy as np\n",
    "\n",
    "# 1D zero array\n",
    "arr_zero1D = np.zeros(4)\n",
    "\n",
    "# 2D zero array\n",
    "arr_zero2D = np.zeros((3, 4))\n",
    "\n",
    "# 3D zero array\n",
    "arr_zero3D = np.zeros(((3, 4, 3)))\n",
    "\n",
    "print(arr_zero1D)\n",
    "print()\n",
    "print(arr_zero2D)\n",
    "print()\n",
    "print(\" 3D array starts \")\n",
    "print(arr_zero3D)"
   ]
  },
  {
   "cell_type": "code",
   "execution_count": 2,
   "id": "af58dfd6",
   "metadata": {},
   "outputs": [
    {
     "name": "stdout",
     "output_type": "stream",
     "text": [
      "[1. 1. 1. 1.]\n"
     ]
    }
   ],
   "source": [
    "# Array filled with ones\n",
    "arr_ones = np.ones(4)\n",
    "print(arr_ones)\n",
    "\n",
    "# Similarly u can create for 2D and 3D array"
   ]
  },
  {
   "cell_type": "code",
   "execution_count": 3,
   "id": "697f7ce9",
   "metadata": {},
   "outputs": [
    {
     "name": "stdout",
     "output_type": "stream",
     "text": [
      "[1. 1. 1. 1.]\n"
     ]
    }
   ],
   "source": [
    "# Empty array \n",
    "arr_em = np.empty(4)\n",
    "print(arr_em)\n",
    "\n",
    "# Here u can see 1 in your empty array bcuz when we create an empty array it takes up the value of prevois memory location"
   ]
  },
  {
   "cell_type": "code",
   "execution_count": 5,
   "id": "d5adcd1a",
   "metadata": {},
   "outputs": [
    {
     "name": "stdout",
     "output_type": "stream",
     "text": [
      "[0 1 2 3]\n",
      "[2 3 4 5]\n",
      "[3 4 5 6]\n"
     ]
    }
   ],
   "source": [
    "# An array with a range of element\n",
    "arr_ran = np.arange(4)\n",
    "\n",
    "arr_ran0 = np.arange(2,6)\n",
    "\n",
    "arr_ran1 = np.arange(3,7)\n",
    "\n",
    "print(arr_ran)\n",
    "print(arr_ran0)\n",
    "print(arr_ran1)"
   ]
  },
  {
   "cell_type": "code",
   "execution_count": 6,
   "id": "a3aa36ca",
   "metadata": {},
   "outputs": [
    {
     "name": "stdout",
     "output_type": "stream",
     "text": [
      "[[1. 0. 0.]\n",
      " [0. 1. 0.]\n",
      " [0. 0. 1.]]\n",
      "\n",
      "[[1. 0. 0. 0.]\n",
      " [0. 1. 0. 0.]\n",
      " [0. 0. 1. 0.]\n",
      " [0. 0. 0. 1.]]\n"
     ]
    }
   ],
   "source": [
    "# Making all diagonal element 1\n",
    "arr_dia = np.eye(3)\n",
    "arr_dia0 = np.eye(4,4)\n",
    "\n",
    "print(arr_dia)\n",
    "print()\n",
    "print(arr_dia0)"
   ]
  },
  {
   "cell_type": "code",
   "execution_count": 7,
   "id": "9c19ff4f",
   "metadata": {},
   "outputs": [
    {
     "name": "stdout",
     "output_type": "stream",
     "text": [
      "[ 0.   2.5  5.   7.5 10. ]\n",
      "\n",
      "[ 0.  5. 10. 15. 20.]\n"
     ]
    }
   ],
   "source": [
    "# Create an array with values that are spaced linearly in specified interval\n",
    "# num specify no.of element should be there in array\n",
    "arr_lin = np.linspace(0,10,num = 5)\n",
    "arr_lin0 = np.linspace(0,20,num = 5)\n",
    "\n",
    "print(arr_lin)\n",
    "print()\n",
    "print(arr_lin0)"
   ]
  },
  {
   "cell_type": "code",
   "execution_count": null,
   "id": "cfb8ecb8",
   "metadata": {},
   "outputs": [],
   "source": []
  }
 ],
 "metadata": {
  "kernelspec": {
   "display_name": "Python 3 (ipykernel)",
   "language": "python",
   "name": "python3"
  },
  "language_info": {
   "codemirror_mode": {
    "name": "ipython",
    "version": 3
   },
   "file_extension": ".py",
   "mimetype": "text/x-python",
   "name": "python",
   "nbconvert_exporter": "python",
   "pygments_lexer": "ipython3",
   "version": "3.11.5"
  }
 },
 "nbformat": 4,
 "nbformat_minor": 5
}
