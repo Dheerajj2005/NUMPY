{
 "cells": [
  {
   "cell_type": "markdown",
   "id": "db612880",
   "metadata": {},
   "source": [
    "# COPY vs VIEW"
   ]
  },
  {
   "cell_type": "raw",
   "id": "17ad4b98",
   "metadata": {},
   "source": [
    "Both are used to copy the rry but there are some differences\n",
    "                    COPY\n",
    "1) The copy owns the data \n",
    "2) The copy of an array is the new array\n",
    "3) Changes made in copy does not reflect in original array\n",
    "\n",
    "opposite of copy for view"
   ]
  },
  {
   "cell_type": "code",
   "execution_count": 6,
   "id": "e5cbca66",
   "metadata": {},
   "outputs": [
    {
     "name": "stdout",
     "output_type": "stream",
     "text": [
      "variable :  [ 1 40  8  3]\n",
      "copy     :  [1 5 8 3]\n"
     ]
    }
   ],
   "source": [
    "# Copy \n",
    "import numpy as np\n",
    "\n",
    "a = np.array([1, 5, 8, 3])\n",
    "co = np.copy(a)\n",
    "\n",
    "# Here changes made in original array does not reflect in copy array\n",
    "a[1] = 40\n",
    "\n",
    "print(\"variable : \",a)\n",
    "print(\"copy     : \",co)"
   ]
  },
  {
   "cell_type": "code",
   "execution_count": 5,
   "id": "fa31a4c6",
   "metadata": {},
   "outputs": [
    {
     "name": "stdout",
     "output_type": "stream",
     "text": [
      "variable :  [9 5 8 6]\n",
      "copy     :  [ 9 40  8  6]\n"
     ]
    }
   ],
   "source": [
    "# View\n",
    "\n",
    "b = np.array([9, 5, 8, 6])\n",
    "vi = np.copy(b)\n",
    "\n",
    "# But here changes made in original array is reflected in view array \n",
    "b[1] = 40\n",
    "print(\"variable : \",b)\n",
    "print(\"copy     : \",vi)"
   ]
  },
  {
   "cell_type": "code",
   "execution_count": null,
   "id": "7d7f5dd2",
   "metadata": {},
   "outputs": [],
   "source": [
    " "
   ]
  }
 ],
 "metadata": {
  "kernelspec": {
   "display_name": "Python 3 (ipykernel)",
   "language": "python",
   "name": "python3"
  },
  "language_info": {
   "codemirror_mode": {
    "name": "ipython",
    "version": 3
   },
   "file_extension": ".py",
   "mimetype": "text/x-python",
   "name": "python",
   "nbconvert_exporter": "python",
   "pygments_lexer": "ipython3",
   "version": "3.11.5"
  }
 },
 "nbformat": 4,
 "nbformat_minor": 5
}
