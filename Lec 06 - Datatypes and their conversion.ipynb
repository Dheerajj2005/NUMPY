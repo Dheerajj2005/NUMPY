{
 "cells": [
  {
   "cell_type": "markdown",
   "id": "7156ee21",
   "metadata": {},
   "source": [
    "## Data types Numpy array"
   ]
  },
  {
   "cell_type": "raw",
   "id": "929fc352",
   "metadata": {},
   "source": [
    "Sr. No.\tData Type\tDescription\n",
    "1\tbool_\t       Boolean (True or False)\n",
    "2\tint_\t       Default integer type (usually int32 or int64)\n",
    "3\tint8\t       Signed integer of 8 bits\n",
    "4\tint16\t       Signed integer of 16 bits\n",
    "5\tint32\t       Signed integer of 32 bits\n",
    "6\tint64\t       Signed integer of 64 bits\n",
    "7\tuint8\t       Unsigned integer of 8 bits\n",
    "8\tuint16\t       Unsigned integer of 16 bits\n",
    "9\tuint32\t       Unsigned integer of 32 bits\n",
    "10\tuint64\t       Unsigned integer of 64 bits\n",
    "11\tfloat16\t       Half-precision float: 16 bits\n",
    "12\tfloat32\t       Single-precision float: 32 bits\n",
    "13\tfloat64\t       Double-precision float: 64 bits\n",
    "14\tcomplex64\t   Complex number with 32-bit real and imaginary parts\n",
    "15\tcomplex128\t   Complex number with 64-bit real and imaginary parts\n",
    "16\tbool8\t       Boolean (8 bits)\n",
    "17\tobject_\t       Python object\n",
    "18\tbytes_\t       Byte string\n",
    "19\tstr_\t       String (deprecated in newer NumPy versions)\n",
    "20\tunicode_\t   Unicode string (deprecated in newer NumPy versions)"
   ]
  },
  {
   "cell_type": "raw",
   "id": "0f597c03",
   "metadata": {},
   "source": [
    "Character Codes for NumPy Data Types\n",
    "Core Numerical Types\n",
    "b: Boolean\n",
    "i: (signed) integer\n",
    "u: unsigned integer\n",
    "f: floating-point\n",
    "c: complex floating-point\n",
    "m: timedelta\n",
    "M: datetime\n",
    "String and Bytes Types\n",
    "S: (byte-)string\n",
    "U: Unicode\n",
    "V: raw data (void)\n"
   ]
  },
  {
   "cell_type": "code",
   "execution_count": 2,
   "id": "96ae53f1",
   "metadata": {},
   "outputs": [
    {
     "name": "stdout",
     "output_type": "stream",
     "text": [
      "data type :  int32\n"
     ]
    }
   ],
   "source": [
    "import numpy as np\n",
    "\n",
    "var = np.array([1, 3, 5, 8, 45, 87])\n",
    "\n",
    "print(\"data type : \",var.dtype)"
   ]
  },
  {
   "cell_type": "code",
   "execution_count": 3,
   "id": "4236c11d",
   "metadata": {},
   "outputs": [
    {
     "name": "stdout",
     "output_type": "stream",
     "text": [
      "data type :  float64\n"
     ]
    }
   ],
   "source": [
    "var = np.array([1, 3.5, 5, 8.48, 45, 87])\n",
    "\n",
    "print(\"data type : \",var.dtype)"
   ]
  },
  {
   "cell_type": "code",
   "execution_count": 4,
   "id": "c6a731dc",
   "metadata": {},
   "outputs": [
    {
     "name": "stdout",
     "output_type": "stream",
     "text": [
      "data type :  <U1\n"
     ]
    }
   ],
   "source": [
    "var = np.array([\"a\", \"D\", \"g\"])\n",
    "\n",
    "print(\"data type : \",var.dtype)"
   ]
  },
  {
   "cell_type": "code",
   "execution_count": 5,
   "id": "0d54f4ab",
   "metadata": {},
   "outputs": [
    {
     "name": "stdout",
     "output_type": "stream",
     "text": [
      "data type :  <U11\n"
     ]
    }
   ],
   "source": [
    "var = np.array([1, 3, 5, 8, 45, 87, \"j\", \"H\"])\n",
    "\n",
    "print(\"data type : \",var.dtype)"
   ]
  },
  {
   "cell_type": "code",
   "execution_count": 8,
   "id": "a63aa21c",
   "metadata": {},
   "outputs": [
    {
     "name": "stdout",
     "output_type": "stream",
     "text": [
      "data type :  int8\n"
     ]
    }
   ],
   "source": [
    "# Conversion btwn data type \n",
    "# Conversion btwn int32 to int8\n",
    "x = np.array([1, 2, 3, 4],dtype = np.int8)\n",
    "print(\"data type : \",x.dtype)"
   ]
  },
  {
   "cell_type": "code",
   "execution_count": 9,
   "id": "f266d2e5",
   "metadata": {},
   "outputs": [
    {
     "name": "stdout",
     "output_type": "stream",
     "text": [
      "data type :  float32\n"
     ]
    }
   ],
   "source": [
    "# Conversion from int32 to float\n",
    "x1 = np.array([1, 2, 3, 4],dtype = \"f\")\n",
    "print(\"data type : \",x1.dtype)"
   ]
  },
  {
   "cell_type": "code",
   "execution_count": 11,
   "id": "8460f795",
   "metadata": {},
   "outputs": [
    {
     "name": "stdout",
     "output_type": "stream",
     "text": [
      "Data type :  int32\n",
      "Data type :  float32\n",
      "[1 2 3 4]\n",
      "[1. 2. 3. 4.]\n"
     ]
    }
   ],
   "source": [
    "# Another way to convert\n",
    "x2 = np.array([1, 2, 3, 4]) \n",
    "new = np.float32(x2)\n",
    "\n",
    "print(\"Data type : \",x2.dtype)\n",
    "print(\"Data type : \",new.dtype)\n",
    "print(x2)\n",
    "print(new)"
   ]
  },
  {
   "cell_type": "code",
   "execution_count": 12,
   "id": "370e1466",
   "metadata": {},
   "outputs": [
    {
     "name": "stdout",
     "output_type": "stream",
     "text": [
      "Data type :  int32\n",
      "Data type :  float32\n",
      "Data type :  int32\n",
      "[1 2 3 4]\n",
      "[1. 2. 3. 4.]\n",
      "[1 2 3 4]\n"
     ]
    }
   ],
   "source": [
    "# Conversion from int to float then again float to int \n",
    "x2 = np.array([1, 2, 3, 4]) \n",
    "new = np.float32(x2)\n",
    "new_one = np.int_(new)\n",
    "\n",
    "print(\"Data type : \",x2.dtype)\n",
    "print(\"Data type : \",new.dtype)\n",
    "print(\"Data type : \",new_one.dtype)\n",
    "\n",
    "print(x2)\n",
    "print(new)\n",
    "print(new_one)\n"
   ]
  },
  {
   "cell_type": "code",
   "execution_count": 13,
   "id": "6210e359",
   "metadata": {},
   "outputs": [
    {
     "name": "stdout",
     "output_type": "stream",
     "text": [
      "[1 2 3 4]\n",
      "[1. 2. 3. 4.]\n"
     ]
    }
   ],
   "source": [
    "# Direct conversion from int to float using astype function \n",
    "x3 = np.array([1, 2, 3, 4])\n",
    "new_1 = x3.astype(float)\n",
    "\n",
    "print(x3)\n",
    "print(new_1)"
   ]
  },
  {
   "cell_type": "code",
   "execution_count": null,
   "id": "43dd7bcc",
   "metadata": {},
   "outputs": [],
   "source": []
  }
 ],
 "metadata": {
  "kernelspec": {
   "display_name": "Python 3 (ipykernel)",
   "language": "python",
   "name": "python3"
  },
  "language_info": {
   "codemirror_mode": {
    "name": "ipython",
    "version": 3
   },
   "file_extension": ".py",
   "mimetype": "text/x-python",
   "name": "python",
   "nbconvert_exporter": "python",
   "pygments_lexer": "ipython3",
   "version": "3.11.5"
  }
 },
 "nbformat": 4,
 "nbformat_minor": 5
}
