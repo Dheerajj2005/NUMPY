{
 "cells": [
  {
   "cell_type": "markdown",
   "id": "2f0660d0",
   "metadata": {},
   "source": [
    "## Create numpy arrays with random number"
   ]
  },
  {
   "cell_type": "markdown",
   "id": "9cae8c77",
   "metadata": {},
   "source": [
    "**1) rand()** -- This function is used to generate random value between 0 to 1 [0,1) <br>\n",
    "\n",
    "**2) randn()** -- This function used to generate number closer to 0 number can be positive or negative <br>\n",
    "\n",
    "**3) ranf()** -- This function used to generate numbers between interval [0.0 ,1.0) there is round bracket at end in interval that means 1 is not includede <br>\n",
    "\n",
    "**4) randint()** -- This function is used to generate number between given range"
   ]
  },
  {
   "cell_type": "code",
   "execution_count": 5,
   "id": "a4bdbe18",
   "metadata": {},
   "outputs": [
    {
     "name": "stdout",
     "output_type": "stream",
     "text": [
      "[0.93517969 0.99200687 0.08415378 0.64630861]\n",
      "\n",
      "[[0.06908867 0.64477836 0.38403554]\n",
      " [0.43855712 0.97287669 0.89550535]\n",
      " [0.24188951 0.49476367 0.60826122]\n",
      " [0.99951958 0.35528335 0.27319059]]\n"
     ]
    }
   ],
   "source": [
    "# rand()\n",
    "\n",
    "import numpy as np\n",
    "\n",
    "var = np.random.rand(4)\n",
    "var0 = np.random.rand(4, 3)\n",
    "\n",
    "print(var)\n",
    "print()\n",
    "print(var0)"
   ]
  },
  {
   "cell_type": "code",
   "execution_count": 7,
   "id": "5426cb17",
   "metadata": {},
   "outputs": [
    {
     "name": "stdout",
     "output_type": "stream",
     "text": [
      "[-0.89727348 -0.10733989 -0.02643915  0.15166607]\n",
      "\n",
      "[[-1.98399685 -1.36585789 -0.89481527]\n",
      " [ 2.08916169 -0.79459472  0.09717054]\n",
      " [-2.33159555 -1.10282482 -1.39129726]\n",
      " [-0.22734334 -1.47526228 -0.4061286 ]]\n"
     ]
    }
   ],
   "source": [
    "# randn()\n",
    "\n",
    "var1 = np.random.randn(4)\n",
    "var2 = np.random.randn(4, 3)\n",
    "\n",
    "print(var1)\n",
    "print()\n",
    "print(var2)\n"
   ]
  },
  {
   "cell_type": "code",
   "execution_count": 9,
   "id": "f8be668b",
   "metadata": {},
   "outputs": [
    {
     "name": "stdout",
     "output_type": "stream",
     "text": [
      "[0.17429536 0.20423401 0.57043229 0.30025346]\n",
      "\n"
     ]
    }
   ],
   "source": [
    "# ranf()\n",
    "\n",
    "var3 = np.random.ranf(4)\n",
    "# var4 = np.random.ranf(4, 3)\n",
    "# this function only take 1 arguement \n",
    "\n",
    "print(var3)\n",
    "print()\n",
    "\n"
   ]
  },
  {
   "cell_type": "code",
   "execution_count": 12,
   "id": "7e4b5d82",
   "metadata": {},
   "outputs": [
    {
     "name": "stdout",
     "output_type": "stream",
     "text": [
      "[5 2 3 5 4]\n",
      "[18 15 14 13 22 27 26 26 24 10]\n"
     ]
    }
   ],
   "source": [
    "# randint()\n",
    "# var = np.random.randint(min, max, total_values)\n",
    "\n",
    "var5 = np.random.randint(1,10,5)\n",
    "var6 = np.random.randint(10,30,10)\n",
    "\n",
    "print(var5)\n",
    "print(var6)\n"
   ]
  }
 ],
 "metadata": {
  "kernelspec": {
   "display_name": "Python 3 (ipykernel)",
   "language": "python",
   "name": "python3"
  },
  "language_info": {
   "codemirror_mode": {
    "name": "ipython",
    "version": 3
   },
   "file_extension": ".py",
   "mimetype": "text/x-python",
   "name": "python",
   "nbconvert_exporter": "python",
   "pygments_lexer": "ipython3",
   "version": "3.11.5"
  }
 },
 "nbformat": 4,
 "nbformat_minor": 5
}
