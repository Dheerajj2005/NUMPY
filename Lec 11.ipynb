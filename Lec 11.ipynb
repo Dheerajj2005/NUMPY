{
 "cells": [
  {
   "cell_type": "markdown",
   "id": "92bf97b2",
   "metadata": {},
   "source": [
    "# INDEXING"
   ]
  },
  {
   "cell_type": "raw",
   "id": "5a8ced2e",
   "metadata": {},
   "source": [
    "1D array indexing\n",
    "\n",
    "             [ 2, 7, 3, 6, 8, 5 ]\n",
    "               |  |  |  |  |  |\n",
    "               0  1  2  3  4  5"
   ]
  },
  {
   "cell_type": "code",
   "execution_count": 2,
   "id": "1b92a480",
   "metadata": {},
   "outputs": [
    {
     "name": "stdout",
     "output_type": "stream",
     "text": [
      "8\n",
      "3\n"
     ]
    }
   ],
   "source": [
    "# 1D array indexing\n",
    "import numpy as np\n",
    "\n",
    "var = np.array([1, 6, 3, 8])\n",
    "#               0  1  2  3\n",
    "#              -4 -3 -2 -1\n",
    "\n",
    "print(var[3])\n",
    "print(var[-2])"
   ]
  },
  {
   "cell_type": "raw",
   "id": "6ca177df",
   "metadata": {},
   "source": [
    "2D array indexing \n",
    "             [ [ 1, 3, 5, 6 ]       --- 0\n",
    "               [ 8, 7, 2, 5 ] ]     --- 1\n",
    "               \n",
    "                 |  |  |  |\n",
    "                 0  1  2  3"
   ]
  },
  {
   "cell_type": "code",
   "execution_count": 7,
   "id": "237fb036",
   "metadata": {},
   "outputs": [
    {
     "name": "stdout",
     "output_type": "stream",
     "text": [
      "[[3 5 7]\n",
      " [9 1 4]]\n",
      "2\n",
      "\n",
      "5\n",
      "4\n"
     ]
    }
   ],
   "source": [
    "# 2D array indexing \n",
    "var1 = np.array([[3, 5, 7],[9, 1, 4]])\n",
    "print(var1)\n",
    "print(var1.ndim)\n",
    "print()\n",
    "# First placeholder to specify the row and second placeholder to specify the element of the row  \n",
    "print(var1[0][1])\n",
    "print(var1[1][2])"
   ]
  },
  {
   "cell_type": "raw",
   "id": "48d41072",
   "metadata": {},
   "source": [
    "3D array indexing\n",
    "            [ [ [ 1, 2 ]-- 0\n",
    "                [ 1, 2 ]-- 1]------ 0\n",
    "                  |  |\n",
    "                  0  1\n",
    "                  \n",
    "                [ [ 1, 2 ]-- 0\n",
    "                [ 1, 2 ] ]-- 1]---- 1"
   ]
  },
  {
   "cell_type": "code",
   "execution_count": 10,
   "id": "de150d07",
   "metadata": {},
   "outputs": [
    {
     "name": "stdout",
     "output_type": "stream",
     "text": [
      "[[[1 2]\n",
      "  [6 7]]]\n",
      "3\n",
      "\n",
      "7\n"
     ]
    }
   ],
   "source": [
    "# 3D array indexing\n",
    "\n",
    "var2 = np.array([[[1, 2],[6, 7]]])\n",
    "print(var2)\n",
    "print(var2.ndim)\n",
    "print()\n",
    "# refer the diagram\n",
    "#   [ [ [1, 2] -- 0          ---- 0\n",
    "#       [6, 7]]] --- 1\n",
    "print(var2[0,1,1])"
   ]
  },
  {
   "cell_type": "markdown",
   "id": "b0445e5b",
   "metadata": {},
   "source": [
    "# SLICING"
   ]
  },
  {
   "cell_type": "raw",
   "id": "841c1081",
   "metadata": {},
   "source": [
    "x     = [ 2, 5, 6, 8, 4 ]\n",
    "index =   0  1  2  3  4\n",
    "slicing = x [ start : stop : step size ]\n",
    "Note : index for stop should be given after adding 1 "
   ]
  },
  {
   "cell_type": "code",
   "execution_count": 22,
   "id": "67c1f14b",
   "metadata": {},
   "outputs": [
    {
     "name": "stdout",
     "output_type": "stream",
     "text": [
      "[1 2 3 4 5 6 7 8]\n",
      "\n",
      "2 to 5 :  [2 3 4 5]\n",
      "\n",
      "Odd numbers :  [1 3 5 7]\n",
      "\n",
      "Even numbers :  [2 4 6 8]\n",
      "\n",
      "start to 5 :  [1 2 3 4 5]\n",
      "\n",
      "step size of 3:  [1 4 7]\n"
     ]
    }
   ],
   "source": [
    "x = np.array([1, 2, 3, 4, 5, 6, 7, 8])\n",
    "#             0  1  2  3  4  5  6  7\n",
    "print(x)\n",
    "print()\n",
    "print(\"2 to 5 : \",x[1:5])\n",
    "print()\n",
    "print(\"Odd numbers : \",x[0:7:2])\n",
    "print()\n",
    "# If u want the whole data set you need not to specify the ending index \n",
    "print(\"Even numbers : \",x[1::2])\n",
    "print()\n",
    "# if u want the data set from starting alo no need to mention starting index \n",
    "print(\"start to 5 : \",x[:5:])\n",
    "print()\n",
    "# to print whole data set at a step size of 3\n",
    "print(\"step size of 3: \",x[::3])"
   ]
  },
  {
   "cell_type": "raw",
   "id": "38326e6f",
   "metadata": {},
   "source": [
    "2D array slicing\n",
    "             [ [ 1, 3, 5, 6 ]       --- 0\n",
    "               [ 8, 7, 2, 5 ] ]     --- 1\n",
    "               \n",
    "                 |  |  |  |\n",
    "                 0  1  2  3\n",
    "                 \n",
    "                 [first row,element"
   ]
  },
  {
   "cell_type": "code",
   "execution_count": 38,
   "id": "5fbbe506",
   "metadata": {},
   "outputs": [
    {
     "name": "stdout",
     "output_type": "stream",
     "text": [
      "[[ 1  2  3]\n",
      " [ 6  7  8]\n",
      " [11 12 13]]\n",
      "2\n",
      "\n",
      "[[ 7  8]\n",
      " [12 13]]\n",
      "\n",
      "[[6 7 8]]\n"
     ]
    }
   ],
   "source": [
    "y = np.array([[1, 2, 3],[6, 7, 8],[11, 12, 13]])\n",
    "# element inex 0  1  2  3   4  5  6  7    8   9  10  11  \n",
    "print(y)\n",
    "print(y.ndim)\n",
    "print()\n",
    "#7 8 12 13 :\n",
    "print(y[1: , 1:])\n",
    "print()\n",
    "# 6 7 8\n",
    "print(y[1:2,])"
   ]
  },
  {
   "cell_type": "code",
   "execution_count": null,
   "id": "25535543",
   "metadata": {},
   "outputs": [],
   "source": []
  }
 ],
 "metadata": {
  "kernelspec": {
   "display_name": "Python 3 (ipykernel)",
   "language": "python",
   "name": "python3"
  },
  "language_info": {
   "codemirror_mode": {
    "name": "ipython",
    "version": 3
   },
   "file_extension": ".py",
   "mimetype": "text/x-python",
   "name": "python",
   "nbconvert_exporter": "python",
   "pygments_lexer": "ipython3",
   "version": "3.11.5"
  }
 },
 "nbformat": 4,
 "nbformat_minor": 5
}
