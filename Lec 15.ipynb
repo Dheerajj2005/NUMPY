{
 "cells": [
  {
   "cell_type": "markdown",
   "id": "29678fbd",
   "metadata": {},
   "source": [
    "# Numpy array Functions  "
   ]
  },
  {
   "cell_type": "raw",
   "id": "b23fbf81",
   "metadata": {},
   "source": [
    "# Search an element \n",
    "Search the array for the value and return the index of that value\n",
    "where() keyword is used for searching the value"
   ]
  },
  {
   "cell_type": "code",
   "execution_count": 3,
   "id": "40182134",
   "metadata": {
    "scrolled": true
   },
   "outputs": [
    {
     "name": "stdout",
     "output_type": "stream",
     "text": [
      "(array([0, 4, 9], dtype=int64),)\n",
      "\n",
      "(array([0, 1, 3, 4, 7, 9], dtype=int64),)\n",
      "\n"
     ]
    }
   ],
   "source": [
    "import numpy as np\n",
    "\n",
    "var = np.array([2, 4, 5, 8, 2, 1, 9, 6, 7, 2])\n",
    "# index         0  1  2  3  4  5  6  7  8  9\n",
    "\n",
    "x = np.where( var == 2 )\n",
    "print(x)\n",
    "print()\n",
    "\n",
    "# You can also perform some operation on array and use where function\n",
    "y = np.where( (var % 2 ) == 0 )\n",
    "print(y)\n",
    "print()\n"
   ]
  },
  {
   "cell_type": "raw",
   "id": "e44e8312",
   "metadata": {},
   "source": [
    "# Search sorted array \n",
    "It performs binary search in array and return the index where the specified value would be inserted to maintain the search order "
   ]
  },
  {
   "cell_type": "code",
   "execution_count": 6,
   "id": "6a0b51e8",
   "metadata": {},
   "outputs": [
    {
     "name": "stdout",
     "output_type": "stream",
     "text": [
      "4\n",
      "[4 6 7]\n"
     ]
    }
   ],
   "source": [
    "var_1 = np.array([1, 2, 3, 4, 6, 7, 9, 11])\n",
    "# index           0  1  2  3  4  5  6 \n",
    "\n",
    "z = np.searchsorted(var_1, 5)\n",
    "print(z)\n",
    "# 5 should be inserted at position at index 4 to maintain order\n",
    "\n",
    "# If u wan't u can also pass list of number\n",
    "a = np.searchsorted(var_1, [5, 8, 10])\n",
    "print(a)"
   ]
  },
  {
   "cell_type": "raw",
   "id": "23e155c7",
   "metadata": {},
   "source": [
    "SORTING"
   ]
  },
  {
   "cell_type": "code",
   "execution_count": 8,
   "id": "3e7c8dc3",
   "metadata": {},
   "outputs": [
    {
     "name": "stdout",
     "output_type": "stream",
     "text": [
      "[ 3  6  9 21 34 45 78]\n"
     ]
    }
   ],
   "source": [
    "# Sorting of number\n",
    "vr = np.array([3, 6, 34, 78, 9, 45, 21])\n",
    "\n",
    "print(np.sort(vr))"
   ]
  },
  {
   "cell_type": "code",
   "execution_count": 9,
   "id": "60fbfa99",
   "metadata": {},
   "outputs": [
    {
     "name": "stdout",
     "output_type": "stream",
     "text": [
      "['c' 'r' 'v' 'z']\n"
     ]
    }
   ],
   "source": [
    "# Sorting of alphabets \n",
    "vr1 = np.array([\"c\", \"r\", \"z\", \"v\"])\n",
    "\n",
    "print(np.sort(vr1))"
   ]
  },
  {
   "cell_type": "code",
   "execution_count": 10,
   "id": "748f93a8",
   "metadata": {},
   "outputs": [
    {
     "name": "stdout",
     "output_type": "stream",
     "text": [
      "[[ 3  6 34]\n",
      " [ 9 45 78]\n",
      " [12 21 56]]\n"
     ]
    }
   ],
   "source": [
    "# Sorting of 2D array\n",
    "vrr = np.array([[3, 6, 34], [78, 9, 45], [21, 56, 12]])\n",
    "\n",
    "print(np.sort(vrr))"
   ]
  },
  {
   "cell_type": "raw",
   "id": "2b8cc66b",
   "metadata": {},
   "source": [
    "FILTER array\n",
    "Getting some element out of an existing array and creatig a new array out of them"
   ]
  },
  {
   "cell_type": "code",
   "execution_count": 12,
   "id": "a81655c9",
   "metadata": {},
   "outputs": [
    {
     "name": "stdout",
     "output_type": "stream",
     "text": [
      "['c' 'z']\n"
     ]
    }
   ],
   "source": [
    "vr4 = np.array([\"c\", \"r\", \"z\", \"v\"])\n",
    "\n",
    "f = [True, False, True, False]\n",
    "\n",
    "new_arr = vr4[f]\n",
    "print(new_arr)"
   ]
  },
  {
   "cell_type": "code",
   "execution_count": null,
   "id": "e18656da",
   "metadata": {},
   "outputs": [],
   "source": []
  }
 ],
 "metadata": {
  "kernelspec": {
   "display_name": "Python 3 (ipykernel)",
   "language": "python",
   "name": "python3"
  },
  "language_info": {
   "codemirror_mode": {
    "name": "ipython",
    "version": 3
   },
   "file_extension": ".py",
   "mimetype": "text/x-python",
   "name": "python",
   "nbconvert_exporter": "python",
   "pygments_lexer": "ipython3",
   "version": "3.11.5"
  }
 },
 "nbformat": 4,
 "nbformat_minor": 5
}
