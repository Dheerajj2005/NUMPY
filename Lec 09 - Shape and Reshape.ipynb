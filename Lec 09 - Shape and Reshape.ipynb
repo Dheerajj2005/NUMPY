{
 "cells": [
  {
   "cell_type": "markdown",
   "id": "95a650c9",
   "metadata": {},
   "source": [
    "## Shape and reshaping of arrays in numpy"
   ]
  },
  {
   "cell_type": "raw",
   "id": "2944983b",
   "metadata": {},
   "source": [
    "shape -- gives sum row,column"
   ]
  },
  {
   "cell_type": "code",
   "execution_count": 2,
   "id": "4649d84e",
   "metadata": {},
   "outputs": [
    {
     "name": "stdout",
     "output_type": "stream",
     "text": [
      "[[1 2 3 4]\n",
      " [5 6 7 8]]\n",
      "\n",
      "(2, 4)\n"
     ]
    }
   ],
   "source": [
    "import numpy as np\n",
    "var = np.array([[1, 2, 3, 4],[5, 6, 7, 8]])\n",
    "print(var)\n",
    "print()\n",
    "print(var.shape)\n",
    "\n",
    "# o/p (2, 4) 2 -- rows  4 -- column"
   ]
  },
  {
   "cell_type": "code",
   "execution_count": 3,
   "id": "995c518f",
   "metadata": {},
   "outputs": [
    {
     "name": "stdout",
     "output_type": "stream",
     "text": [
      "[[[[1 2 3 4]]]]\n",
      "\n",
      "(1, 1, 1, 4)\n"
     ]
    }
   ],
   "source": [
    "var_1 = np.array([1, 2, 3, 4], ndmin = 4 )\n",
    "print(var_1)\n",
    "print()\n",
    "print(var_1.shape)\n",
    "\n",
    "# o/p -- (1, 1, 1, 4)\n",
    "# there only 1 row and 4 columns"
   ]
  },
  {
   "cell_type": "markdown",
   "id": "0affd857",
   "metadata": {},
   "source": [
    "## Reshaping"
   ]
  },
  {
   "cell_type": "code",
   "execution_count": 4,
   "id": "165274a8",
   "metadata": {},
   "outputs": [
    {
     "name": "stdout",
     "output_type": "stream",
     "text": [
      "[1 2 5 6 7 8]\n",
      "1\n",
      "\n",
      "[[1 2 5]\n",
      " [6 7 8]]\n",
      "2\n"
     ]
    }
   ],
   "source": [
    "var_2 = np.array([1, 2, 5, 6, 7, 8])\n",
    "print(var_2)\n",
    "print(var_2.ndim)\n",
    "print()\n",
    "\n",
    "x = var_2.reshape(2,3)\n",
    "print(x)\n",
    "print(x.ndim)"
   ]
  },
  {
   "cell_type": "code",
   "execution_count": 15,
   "id": "e8a5cbe8",
   "metadata": {},
   "outputs": [
    {
     "name": "stdout",
     "output_type": "stream",
     "text": [
      "[ 1  2  3  4  5  6  7  8  9 10 11 12]\n",
      "1\n",
      "\n",
      "[[[ 1  2]\n",
      "  [ 3  4]\n",
      "  [ 5  6]]\n",
      "\n",
      " [[ 7  8]\n",
      "  [ 9 10]\n",
      "  [11 12]]]\n",
      "3\n",
      "\n",
      "[ 1  2  3  4  5  6  7  8  9 10 11 12]\n",
      "1\n"
     ]
    }
   ],
   "source": [
    "# 3D array\n",
    "var_3 = np.array([1, 2, 3, 4, 5, 6, 7, 8, 9, 10, 11, 12])\n",
    "print(var_3)\n",
    "print(var_3.ndim)\n",
    "print()\n",
    "\n",
    "# 1D array converted in 3D array\n",
    "x = var_3.reshape(2,3,2)\n",
    "print(x)\n",
    "print(x.ndim)\n",
    "print()\n",
    "\n",
    "# Again converting 3D array in 1D array pass -1 to make 1D array\n",
    "one = var_3.reshape(-1)\n",
    "print(one)\n",
    "print(one.ndim)"
   ]
  }
 ],
 "metadata": {
  "kernelspec": {
   "display_name": "Python 3 (ipykernel)",
   "language": "python",
   "name": "python3"
  },
  "language_info": {
   "codemirror_mode": {
    "name": "ipython",
    "version": 3
   },
   "file_extension": ".py",
   "mimetype": "text/x-python",
   "name": "python",
   "nbconvert_exporter": "python",
   "pygments_lexer": "ipython3",
   "version": "3.11.5"
  }
 },
 "nbformat": 4,
 "nbformat_minor": 5
}
