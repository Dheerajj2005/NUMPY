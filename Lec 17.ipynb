{
 "cells": [
  {
   "cell_type": "markdown",
   "id": "e1e98d7e",
   "metadata": {},
   "source": [
    "# Insert and Delete Function"
   ]
  },
  {
   "cell_type": "raw",
   "id": "c77dd025",
   "metadata": {},
   "source": [
    "insert()\n",
    "this function is used to insert any value in a numoy array \n",
    "it has three parameter \n",
    "insert(variable_name, index_at_which_insertion, number_to_be_inserted)\n",
    "\n",
    "append() function can also be used to insert but it add at the end of array and floating number can be added"
   ]
  },
  {
   "cell_type": "code",
   "execution_count": 1,
   "id": "4215a8f1",
   "metadata": {},
   "outputs": [
    {
     "name": "stdout",
     "output_type": "stream",
     "text": [
      "[1 2 3 4]\n",
      "[ 1  2 45  3  4]\n"
     ]
    }
   ],
   "source": [
    "import numpy as np\n",
    "\n",
    "var = np.array([1, 2, 3, 4])\n",
    "print(var)\n",
    "\n",
    "y = np.insert(var , 2 , 45)\n",
    "print(y)"
   ]
  },
  {
   "cell_type": "code",
   "execution_count": 9,
   "id": "78232143",
   "metadata": {},
   "outputs": [
    {
     "name": "stdout",
     "output_type": "stream",
     "text": [
      "[1 2 3 4 5 6]\n",
      "[1 2 9 3 4 9]\n",
      "\n",
      "[1.  2.  3.  4.  5.  6.  6.5]\n"
     ]
    }
   ],
   "source": [
    "# This function does not insert float number it will convert float to integer number\n",
    "var1 = np.array([1, 2, 3, 4, 5, 6])\n",
    "print(var1)\n",
    "\n",
    "z = np.insert(var , (2,4) , 9.5)\n",
    "print(z)\n",
    "print()\n",
    "# in output u can see 9.5 is converted in 9\n",
    "\n",
    "# Using append() function\n",
    "c = np.append(var1, 6.5)\n",
    "print(c)\n",
    "# You can add float number using append but drawback is that it only adds at the end"
   ]
  },
  {
   "cell_type": "code",
   "execution_count": 11,
   "id": "994e8f3a",
   "metadata": {},
   "outputs": [
    {
     "name": "stdout",
     "output_type": "stream",
     "text": [
      "[[1 2 3]\n",
      " [1 2 3]]\n",
      "\n",
      "[[1 2 3]\n",
      " [1 2 3]\n",
      " [6 6 6]]\n",
      "\n",
      "[[1 2 6 3]\n",
      " [1 2 6 3]]\n",
      "\n",
      "[[ 1  2  3]\n",
      " [ 1  2  3]\n",
      " [23 24 23]]\n"
     ]
    }
   ],
   "source": [
    "# To do this in 2D array u have to pass axis \n",
    "var1 = np.array([[1, 2, 3],[1, 2, 3]])\n",
    "print(var1)\n",
    "print()\n",
    "\n",
    "# Along 0 axis \n",
    "a = np.insert(var1 , 2 , 6 , axis = 0 )\n",
    "print(a)\n",
    "print()\n",
    "\n",
    "# Along 1 axis \n",
    "b = np.insert(var1 , 2 , 6 , axis = 1 )\n",
    "print(b)\n",
    "print()\n",
    "\n",
    "# Using append function\n",
    "d = np.append(var1 , [[23, 24, 23]], axis = 0)\n",
    "print(d)"
   ]
  },
  {
   "cell_type": "markdown",
   "id": "503a0616",
   "metadata": {},
   "source": [
    "# Delete"
   ]
  },
  {
   "cell_type": "code",
   "execution_count": 12,
   "id": "398b5dd2",
   "metadata": {},
   "outputs": [
    {
     "name": "stdout",
     "output_type": "stream",
     "text": [
      "[1 2 3 4]\n",
      "\n",
      "[1 2 4]\n"
     ]
    }
   ],
   "source": [
    "var5 = np.array([1, 2, 3, 4])\n",
    "print(var)\n",
    "print()\n",
    "                    # index\n",
    "m = np.delete(var , 2  )\n",
    "print(m)"
   ]
  },
  {
   "cell_type": "code",
   "execution_count": null,
   "id": "b0500377",
   "metadata": {},
   "outputs": [],
   "source": []
  }
 ],
 "metadata": {
  "kernelspec": {
   "display_name": "Python 3 (ipykernel)",
   "language": "python",
   "name": "python3"
  },
  "language_info": {
   "codemirror_mode": {
    "name": "ipython",
    "version": 3
   },
   "file_extension": ".py",
   "mimetype": "text/x-python",
   "name": "python",
   "nbconvert_exporter": "python",
   "pygments_lexer": "ipython3",
   "version": "3.11.5"
  }
 },
 "nbformat": 4,
 "nbformat_minor": 5
}
