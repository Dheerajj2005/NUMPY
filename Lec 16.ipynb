{
 "cells": [
  {
   "cell_type": "markdown",
   "id": "8ccb037b",
   "metadata": {},
   "source": [
    "# Arithmetic Function"
   ]
  },
  {
   "cell_type": "raw",
   "id": "f9e91a40",
   "metadata": {},
   "source": [
    "shuffle() \n",
    "This function is used to shuffle the array"
   ]
  },
  {
   "cell_type": "code",
   "execution_count": 2,
   "id": "d8854d7e",
   "metadata": {},
   "outputs": [
    {
     "name": "stdout",
     "output_type": "stream",
     "text": [
      "[1 8 5 4 3 7 2 6]\n"
     ]
    }
   ],
   "source": [
    "import numpy as np\n",
    "var_1 = np.array([1, 2, 3, 4, 5, 6, 7, 8])\n",
    "\n",
    "np.random.shuffle(var_1)\n",
    "\n",
    "print(var_1)"
   ]
  },
  {
   "cell_type": "raw",
   "id": "ac7c178d",
   "metadata": {},
   "source": [
    "unique()\n",
    "This function collects the unique element in array as well as you can know the index and count of that number"
   ]
  },
  {
   "cell_type": "code",
   "execution_count": 9,
   "id": "c1c52cda",
   "metadata": {},
   "outputs": [
    {
     "name": "stdout",
     "output_type": "stream",
     "text": [
      "[1 2 3 4 6 7]\n",
      "\n",
      "(array([1, 2, 3, 4, 6, 7]), array([0, 1, 2, 4, 5, 7], dtype=int64))\n",
      "\n",
      "(array([1, 2, 3, 4, 6, 7]), array([0, 1, 2, 4, 5, 7], dtype=int64), array([1, 3, 1, 2, 3, 1], dtype=int64))\n"
     ]
    }
   ],
   "source": [
    "var_2 = np.array([1, 2, 3, 2, 4, 6, 6, 7, 4, 2, 6])\n",
    "\n",
    "x = np.unique(var_2)\n",
    "print(x)\n",
    "print()\n",
    "\n",
    "# If you want the index then set return_index as True\n",
    "y = np.unique(var_2, return_index = True)\n",
    "print(y)\n",
    "print()\n",
    "\n",
    "# If you want the count then set return_count as True\n",
    "z = np.unique(var_2, return_index = True, return_counts = True)\n",
    "print(z)"
   ]
  },
  {
   "cell_type": "raw",
   "id": "30b5d62a",
   "metadata": {},
   "source": [
    "resize()\n",
    "This function is used to resize the function \n",
    "Syntax of this function is np.resize(variable_name, (rows, column))"
   ]
  },
  {
   "cell_type": "code",
   "execution_count": 11,
   "id": "ae1e0b2d",
   "metadata": {},
   "outputs": [
    {
     "name": "stdout",
     "output_type": "stream",
     "text": [
      "[[4 5 6]\n",
      " [1 2 3]]\n",
      "\n",
      "[[4 5]\n",
      " [6 1]\n",
      " [2 3]]\n"
     ]
    }
   ],
   "source": [
    "var_3 = np.array([4, 5, 6, 1, 2, 3])\n",
    "\n",
    "z = np.resize(var_3,(2,3))\n",
    "print(z)\n",
    "print()\n",
    "\n",
    "n = np.resize(var_3,(3,2))\n",
    "print(n)"
   ]
  },
  {
   "cell_type": "raw",
   "id": "f8892435",
   "metadata": {},
   "source": [
    "flatten() and reval()\n",
    "This is used to convert any Dimension array in 1D array\n",
    "There are various options in this function\n",
    "\n",
    "Order : { ''' F , A', 'K'}, Optional \n",
    "'C' means to flatten in row-major (C-style) order. \n",
    "'F' means to flatten in column-major (Fortran-style) order. \n",
    "'A' means to flatten in column-major order if 'a' is Fortran *contiguous* in memory,row-major order otherwise.\n",
    "'K' means to flatten 'a' in the order the elements occur in mem^ \n",
    "The default is 'C'. \n"
   ]
  },
  {
   "cell_type": "code",
   "execution_count": 16,
   "id": "849c68b3",
   "metadata": {},
   "outputs": [
    {
     "name": "stdout",
     "output_type": "stream",
     "text": [
      "[[4 5]\n",
      " [6 1]\n",
      " [2 3]]\n",
      "\n",
      "[4 5 6 1 2 3]\n",
      "\n",
      "[4 5 6 1 2 3]\n"
     ]
    }
   ],
   "source": [
    "# Let's make a 2D array\n",
    "var_4 = np.array([[4, 5], [6, 1], [2, 3]])\n",
    "print(var_4)\n",
    "print()\n",
    "\n",
    "# Convert this 2D array in 1D by default it converts in column wise so no need to pass any parameter\n",
    "l = var_4.flatten()\n",
    "m = np.ravel(var_4)\n",
    "print(l)\n",
    "print()\n",
    "print(m) "
   ]
  },
  {
   "cell_type": "code",
   "execution_count": 21,
   "id": "65237e37",
   "metadata": {},
   "outputs": [
    {
     "name": "stdout",
     "output_type": "stream",
     "text": [
      "[[4 5]\n",
      " [6 1]\n",
      " [2 3]]\n",
      "\n",
      "Flatten :  [4 6 2 5 1 3]\n",
      "Ravel :  [4 6 2 5 1 3]\n",
      "\n",
      "Flatten :  [4 5 6 1 2 3]\n",
      "Ravel :  [4 5 6 1 2 3]\n",
      "\n",
      "Flatten :  [4 5 6 1 2 3]\n",
      "Ravel :  [4 5 6 1 2 3]\n",
      "\n"
     ]
    }
   ],
   "source": [
    "# Let's use order \n",
    "var_5 = np.array([[4, 5], [6, 1], [2, 3]])\n",
    "print(var_5)\n",
    "print()\n",
    "\n",
    "# 'F' means to flatten in column-major (Fortran-style) order. \n",
    "q = var_4.flatten(order = \"F\")\n",
    "r = np.ravel(var_4,order = \"F\")\n",
    "print(\"Flatten : \",q)\n",
    "print(\"Ravel : \",r)\n",
    "print()\n",
    "\n",
    "# 'A' means to flatten in column-major order if 'a' is Fortran *contiguous* in memory,row-major order otherwise.\n",
    "s = var_4.flatten(order = \"A\")\n",
    "t = np.ravel(var_4,order = \"A\")\n",
    "print(\"Flatten : \",s)\n",
    "print(\"Ravel : \",t)\n",
    "print()\n",
    "\n",
    "# 'K' means to flatten 'a' in the order the elements occur in mem^ \n",
    "u = var_4.flatten(order = \"K\")\n",
    "v = np.ravel(var_4,order = \"K\")\n",
    "print(\"Flatten : \",u)\n",
    "print(\"Ravel : \",v)\n",
    "print()"
   ]
  },
  {
   "cell_type": "code",
   "execution_count": null,
   "id": "a66d3442",
   "metadata": {},
   "outputs": [],
   "source": []
  }
 ],
 "metadata": {
  "kernelspec": {
   "display_name": "Python 3 (ipykernel)",
   "language": "python",
   "name": "python3"
  },
  "language_info": {
   "codemirror_mode": {
    "name": "ipython",
    "version": 3
   },
   "file_extension": ".py",
   "mimetype": "text/x-python",
   "name": "python",
   "nbconvert_exporter": "python",
   "pygments_lexer": "ipython3",
   "version": "3.11.5"
  }
 },
 "nbformat": 4,
 "nbformat_minor": 5
}
