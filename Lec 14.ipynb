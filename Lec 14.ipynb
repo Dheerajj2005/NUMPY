{
 "cells": [
  {
   "cell_type": "markdown",
   "id": "e7a12ccb",
   "metadata": {},
   "source": [
    "# Joining and Split of numpy arrays"
   ]
  },
  {
   "cell_type": "raw",
   "id": "4c68592e",
   "metadata": {},
   "source": [
    "Joining of Two arrays \n",
    "It means putting of content of two or more arrays in a single array\n",
    "Note : No.of element in both the arrays should be same \n",
    "Merging of arrays can also be done along axis \n",
    "\n",
    "concatenate((var1, var2)) function is used to do merging"
   ]
  },
  {
   "cell_type": "code",
   "execution_count": 2,
   "id": "618628d9",
   "metadata": {},
   "outputs": [
    {
     "name": "stdout",
     "output_type": "stream",
     "text": [
      "[ 5  4  3  2  1  6  7  8  9 10]\n"
     ]
    }
   ],
   "source": [
    "# Merging of 1D arrays \n",
    "import numpy as np \n",
    "\n",
    "var1 = np.array([5, 4, 3, 2, 1])\n",
    "var2 = np.array([6, 7, 8, 9, 10])\n",
    "\n",
    "add = np.concatenate((var1, var2))\n",
    "print(add)"
   ]
  },
  {
   "cell_type": "raw",
   "id": "ff573e68",
   "metadata": {},
   "source": [
    "Merging in 2D arrays\n",
    "There are two axis in 2D arrays 1axis and 0 axis\n",
    "Ex.     0 axis      |  1 2 3\n",
    "       (downwards)  |  4 5 6\n",
    "                       ______\n",
    "                       1 axis\n",
    "                    (horizontally)"
   ]
  },
  {
   "cell_type": "code",
   "execution_count": 9,
   "id": "67e90e20",
   "metadata": {},
   "outputs": [
    {
     "name": "stdout",
     "output_type": "stream",
     "text": [
      "[[5 4]\n",
      " [3 2]]\n",
      "\n",
      "[[6 7]\n",
      " [8 9]]\n",
      "\n",
      "[[5 4]\n",
      " [3 2]\n",
      " [6 7]\n",
      " [8 9]]\n",
      "\n",
      "[[5 4 6 7]\n",
      " [3 2 8 9]]\n"
     ]
    }
   ],
   "source": [
    "# Merging in 2D arrays\n",
    "vr1 = np.array([[5, 4], [3, 2]])\n",
    "vr2 = np.array([[6, 7], [8, 9]])\n",
    "print(vr1)\n",
    "print()\n",
    "print(vr2)\n",
    "print()\n",
    "\n",
    "# Merging will be done downward \n",
    "axis0 = np.concatenate((vr1, vr2), axis = 0)\n",
    "print(axis0)\n",
    "print()\n",
    "\n",
    "# Merging will be done horizontally \n",
    "axis1 = np.concatenate((vr1, vr2), axis = 1)\n",
    "print(axis1)"
   ]
  },
  {
   "cell_type": "raw",
   "id": "45f71da0",
   "metadata": {},
   "source": [
    "stack() function is also used to merge the arrays or to convert 1D arrays to 2D arrys\n",
    "There are 4 types of stack() merging \n",
    "1. merging along axis i.e 1 or 0\n",
    "2. h.stack() -- used to merge in row\n",
    "3. v.stack() -- used to merge in column\n",
    "4. d.stack() -- used to merge in height"
   ]
  },
  {
   "cell_type": "code",
   "execution_count": 17,
   "id": "140a8dec",
   "metadata": {},
   "outputs": [
    {
     "name": "stdout",
     "output_type": "stream",
     "text": [
      "[[ 5  4  3  2  1]\n",
      " [ 6  7  8  9 10]]\n",
      "\n",
      "[[ 5  6]\n",
      " [ 4  7]\n",
      " [ 3  8]\n",
      " [ 2  9]\n",
      " [ 1 10]]\n",
      "\n",
      "[ 5  4  3  2  1  6  7  8  9 10]\n",
      "\n",
      "[[ 5  4  3  2  1]\n",
      " [ 6  7  8  9 10]]\n",
      "\n",
      "[[[ 5  6]\n",
      "  [ 4  7]\n",
      "  [ 3  8]\n",
      "  [ 2  9]\n",
      "  [ 1 10]]]\n",
      "\n"
     ]
    }
   ],
   "source": [
    "var_1 = np.array([5, 4, 3, 2, 1])\n",
    "var_2 = np.array([6, 7, 8, 9, 10])\n",
    "\n",
    "# Merging along axis 0 \n",
    "a_new = np.stack((var_1, var_2), axis = 0)\n",
    "print(a_new)\n",
    "print()\n",
    "\n",
    "# Merging along axis 1\n",
    "a_new1 = np.stack((var_1, var_2), axis = 1)\n",
    "print(a_new1)\n",
    "print()\n",
    "\n",
    "# Merging along row  \n",
    "a_new2 = np.hstack((var_1, var_2))\n",
    "print(a_new2)\n",
    "print()\n",
    "\n",
    "# Merging along column  \n",
    "a_new3 = np.vstack((var_1, var_2))\n",
    "print(a_new3)\n",
    "print()\n",
    "\n",
    "# Merging along column  \n",
    "a_new4 = np.dstack((var_1, var_2))\n",
    "print(a_new4)\n",
    "print()"
   ]
  },
  {
   "cell_type": "markdown",
   "id": "d41655a0",
   "metadata": {},
   "source": [
    "# Spliting"
   ]
  },
  {
   "cell_type": "raw",
   "id": "23b0e9fb",
   "metadata": {},
   "source": [
    "It means breaking one array into multiple arrays\n",
    "array_split() function is used to spilt the arrys syntax is array_split(variable_name, no.of arrays to be splited)\n",
    "Note : the output of this function is in list data type"
   ]
  },
  {
   "cell_type": "code",
   "execution_count": 22,
   "id": "38ee2cd4",
   "metadata": {},
   "outputs": [
    {
     "name": "stdout",
     "output_type": "stream",
     "text": [
      "[1 2 3 4 5 6]\n",
      "\n",
      "[array([1, 2]), array([3, 4]), array([5, 6])]\n",
      "<class 'list'>\n",
      "\n",
      "[1 2]\n"
     ]
    }
   ],
   "source": [
    "x = np.array([1, 2, 3, 4, 5, 6])\n",
    "print(x)\n",
    "print()\n",
    "\n",
    "arr = np.array_split(x, 3)\n",
    "print(arr)\n",
    "print(type(arr))\n",
    "print()\n",
    "\n",
    "# To acess array from list u can use index\n",
    "print(arr[0])"
   ]
  },
  {
   "cell_type": "code",
   "execution_count": 25,
   "id": "325f98d5",
   "metadata": {},
   "outputs": [
    {
     "name": "stdout",
     "output_type": "stream",
     "text": [
      "[[1 2]\n",
      " [3 4]\n",
      " [5 6]]\n",
      "\n",
      "[array([[1, 2]]), array([[3, 4]]), array([[5, 6]])]\n",
      "\n",
      "[array([[1],\n",
      "       [3],\n",
      "       [5]]), array([[2],\n",
      "       [4],\n",
      "       [6]]), array([], shape=(3, 0), dtype=int32)]\n",
      "\n"
     ]
    }
   ],
   "source": [
    "# Similarly u can do it for 1D array\n",
    "y = np.array([[1, 2], [3, 4], [5, 6]])\n",
    "print(y)\n",
    "print()\n",
    "\n",
    "ar = np.array_split(y, 3)\n",
    "print(ar)\n",
    "print()\n",
    "\n",
    "# You can also split along axis\n",
    "ar1 = np.array_split(y, 3, axis =1)\n",
    "print(ar1)\n",
    "print()"
   ]
  }
 ],
 "metadata": {
  "kernelspec": {
   "display_name": "Python 3 (ipykernel)",
   "language": "python",
   "name": "python3"
  },
  "language_info": {
   "codemirror_mode": {
    "name": "ipython",
    "version": 3
   },
   "file_extension": ".py",
   "mimetype": "text/x-python",
   "name": "python",
   "nbconvert_exporter": "python",
   "pygments_lexer": "ipython3",
   "version": "3.11.5"
  }
 },
 "nbformat": 4,
 "nbformat_minor": 5
}
